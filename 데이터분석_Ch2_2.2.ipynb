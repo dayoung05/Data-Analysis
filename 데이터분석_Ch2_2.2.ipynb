{
 "cells": [
  {
   "cell_type": "markdown",
   "id": "66b4ddc7",
   "metadata": {},
   "source": [
    "# Chapter 2 파이썬 기본 문법 익히기"
   ]
  },
  {
   "cell_type": "markdown",
   "id": "5a0d5e23",
   "metadata": {},
   "source": [
    "## 2.2 자료형(1) - 기본 데이터 타입\n",
    "- 숫자형(numeric): 정수형(integer, int), 실수형(float)\n",
    "- 불리언(blooean, bool): 참(True)/거짓(False)\n",
    "- 문자형(string,str):큰 따옴표(\"\"), 작은 따옴표('') 안에 문자를 넣어서 생성"
   ]
  },
  {
   "cell_type": "markdown",
   "id": "cd70b8db",
   "metadata": {},
   "source": [
    "### 2.2.1 기본 데이터 타입\n",
    "1. 숫자형(numeric): 정수형(integer), 실수(float)"
   ]
  },
  {
   "cell_type": "code",
   "execution_count": 1,
   "id": "5d62a483",
   "metadata": {},
   "outputs": [
    {
     "data": {
      "text/plain": [
       "int"
      ]
     },
     "execution_count": 1,
     "metadata": {},
     "output_type": "execute_result"
    }
   ],
   "source": [
    "x, y, z = 10, 3.14, -25\n",
    "type(x) #int-> 정수형"
   ]
  },
  {
   "cell_type": "code",
   "execution_count": 2,
   "id": "d6c01ee3",
   "metadata": {},
   "outputs": [
    {
     "data": {
      "text/plain": [
       "float"
      ]
     },
     "execution_count": 2,
     "metadata": {},
     "output_type": "execute_result"
    }
   ],
   "source": [
    "type(y)"
   ]
  },
  {
   "cell_type": "code",
   "execution_count": 3,
   "id": "57b7c117",
   "metadata": {},
   "outputs": [
    {
     "data": {
      "text/plain": [
       "int"
      ]
     },
     "execution_count": 3,
     "metadata": {},
     "output_type": "execute_result"
    }
   ],
   "source": [
    "type(z)"
   ]
  },
  {
   "cell_type": "markdown",
   "id": "cdaa2089",
   "metadata": {},
   "source": [
    "- 자릿수가 많은 숫자를 사용할 때에는 지수승 형태 사용, 지수를 사용하여 만든 변수 실수형(float)"
   ]
  },
  {
   "cell_type": "code",
   "execution_count": 4,
   "id": "ef94ccd6",
   "metadata": {},
   "outputs": [
    {
     "data": {
      "text/plain": [
       "17000.0"
      ]
     },
     "execution_count": 4,
     "metadata": {},
     "output_type": "execute_result"
    }
   ],
   "source": [
    "a = 17e3\n",
    "a"
   ]
  },
  {
   "cell_type": "code",
   "execution_count": 6,
   "id": "d39dab56",
   "metadata": {},
   "outputs": [
    {
     "data": {
      "text/plain": [
       "17000.0"
      ]
     },
     "execution_count": 6,
     "metadata": {},
     "output_type": "execute_result"
    }
   ],
   "source": [
    "b = 17E3  # 대문자 사용가능\n",
    "b"
   ]
  },
  {
   "cell_type": "code",
   "execution_count": 7,
   "id": "66c87a8e",
   "metadata": {},
   "outputs": [
    {
     "data": {
      "text/plain": [
       "-3520.0"
      ]
     },
     "execution_count": 7,
     "metadata": {},
     "output_type": "execute_result"
    }
   ],
   "source": [
    "c = -35.2e2\n",
    "c"
   ]
  },
  {
   "cell_type": "code",
   "execution_count": 8,
   "id": "fc30ae3b",
   "metadata": {},
   "outputs": [
    {
     "data": {
      "text/plain": [
       "2.75"
      ]
     },
     "execution_count": 8,
     "metadata": {},
     "output_type": "execute_result"
    }
   ],
   "source": [
    "d = 275e-2\n",
    "d"
   ]
  },
  {
   "cell_type": "markdown",
   "id": "0fc0a12a",
   "metadata": {},
   "source": [
    "---"
   ]
  },
  {
   "cell_type": "markdown",
   "id": "b4974533",
   "metadata": {},
   "source": [
    "2. 불리언(boolean): 참(True), 거짓(False)\n",
    "- 참/거짓 판별\n",
    "- 줄여서 bool"
   ]
  },
  {
   "cell_type": "code",
   "execution_count": 10,
   "id": "78156f61",
   "metadata": {},
   "outputs": [
    {
     "data": {
      "text/plain": [
       "True"
      ]
     },
     "execution_count": 10,
     "metadata": {},
     "output_type": "execute_result"
    }
   ],
   "source": [
    "a = 100 > 50\n",
    "a"
   ]
  },
  {
   "cell_type": "code",
   "execution_count": 11,
   "id": "8a3c81ec",
   "metadata": {},
   "outputs": [
    {
     "data": {
      "text/plain": [
       "False"
      ]
     },
     "execution_count": 11,
     "metadata": {},
     "output_type": "execute_result"
    }
   ],
   "source": [
    "b = 100 < 50\n",
    "b"
   ]
  },
  {
   "cell_type": "code",
   "execution_count": 12,
   "id": "ac8e5a15",
   "metadata": {},
   "outputs": [
    {
     "data": {
      "text/plain": [
       "False"
      ]
     },
     "execution_count": 12,
     "metadata": {},
     "output_type": "execute_result"
    }
   ],
   "source": [
    "c = 100 == 50 # 등호 두개 (==)는 좌측과 우측값이 같은지, 아닌지 판단하는 조건식\n",
    "c"
   ]
  },
  {
   "cell_type": "code",
   "execution_count": 14,
   "id": "9e17a964",
   "metadata": {},
   "outputs": [
    {
     "data": {
      "text/plain": [
       "bool"
      ]
     },
     "execution_count": 14,
     "metadata": {},
     "output_type": "execute_result"
    }
   ],
   "source": [
    "type(c)"
   ]
  },
  {
   "cell_type": "markdown",
   "id": "a262502e",
   "metadata": {},
   "source": [
    "3. 문자형(string,str):큰 따옴표(\"\"), 작은 따옴표('') 안에 문자를 넣어서 생성"
   ]
  },
  {
   "cell_type": "code",
   "execution_count": 16,
   "id": "a9168c98",
   "metadata": {},
   "outputs": [
    {
     "data": {
      "text/plain": [
       "str"
      ]
     },
     "execution_count": 16,
     "metadata": {},
     "output_type": "execute_result"
    }
   ],
   "source": [
    "a = 'Hello'\n",
    "type(a)"
   ]
  },
  {
   "cell_type": "code",
   "execution_count": 18,
   "id": "a843fbe7",
   "metadata": {},
   "outputs": [
    {
     "data": {
      "text/plain": [
       "str"
      ]
     },
     "execution_count": 18,
     "metadata": {},
     "output_type": "execute_result"
    }
   ],
   "source": [
    "b = '123'\n",
    "type(b)"
   ]
  },
  {
   "cell_type": "code",
   "execution_count": 19,
   "id": "871e9267",
   "metadata": {},
   "outputs": [
    {
     "data": {
      "text/plain": [
       "str"
      ]
     },
     "execution_count": 19,
     "metadata": {},
     "output_type": "execute_result"
    }
   ],
   "source": [
    "c = 'How are you'\n",
    "type(c)"
   ]
  },
  {
   "cell_type": "code",
   "execution_count": null,
   "id": "d15295fa",
   "metadata": {},
   "outputs": [],
   "source": []
  }
 ],
 "metadata": {
  "kernelspec": {
   "display_name": "Python 3",
   "language": "python",
   "name": "python3"
  },
  "language_info": {
   "codemirror_mode": {
    "name": "ipython",
    "version": 3
   },
   "file_extension": ".py",
   "mimetype": "text/x-python",
   "name": "python",
   "nbconvert_exporter": "python",
   "pygments_lexer": "ipython3",
   "version": "3.8.8"
  }
 },
 "nbformat": 4,
 "nbformat_minor": 5
}
