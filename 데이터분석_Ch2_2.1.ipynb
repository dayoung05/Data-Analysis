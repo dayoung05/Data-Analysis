{
 "cells": [
  {
   "cell_type": "markdown",
   "id": "38dd3fc2",
   "metadata": {},
   "source": [
    "# Chapter 2 파이썬 기본 문법 익히기\n",
    "\n"
   ]
  },
  {
   "cell_type": "markdown",
   "id": "347b70ba",
   "metadata": {},
   "source": [
    "## 2.1 변수\n",
    "\n",
    "* 변수의 개념:  변수는 바구니\n",
    "* 변수 선언: 바구니에 값을 넣음\n",
    "* 변수 이름: 바구니에 이름을 붙임"
   ]
  },
  {
   "cell_type": "markdown",
   "id": "4ebe43db",
   "metadata": {},
   "source": [
    "### 2.1.1 변수란?\n",
    "* 변수이름=데이터"
   ]
  },
  {
   "cell_type": "code",
   "execution_count": 25,
   "id": "038bd4f0",
   "metadata": {},
   "outputs": [
    {
     "data": {
      "text/plain": [
       "5"
      ]
     },
     "execution_count": 25,
     "metadata": {},
     "output_type": "execute_result"
    }
   ],
   "source": [
    "a=5  # a 라는 바구니에 값 5를 넣는다.\n",
    "a    # a 값을 확인"
   ]
  },
  {
   "cell_type": "code",
   "execution_count": 26,
   "id": "f587c25c",
   "metadata": {},
   "outputs": [
    {
     "data": {
      "text/plain": [
       "3"
      ]
     },
     "execution_count": 26,
     "metadata": {},
     "output_type": "execute_result"
    }
   ],
   "source": [
    "b=3  # b 라는 바구니에 값 3을 넣는다. \n",
    "b    # b 값을 확인"
   ]
  },
  {
   "cell_type": "code",
   "execution_count": 28,
   "id": "9a83d6fb",
   "metadata": {},
   "outputs": [
    {
     "data": {
      "text/plain": [
       "8"
      ]
     },
     "execution_count": 28,
     "metadata": {},
     "output_type": "execute_result"
    }
   ],
   "source": [
    "a+b"
   ]
  },
  {
   "cell_type": "code",
   "execution_count": 30,
   "id": "d5c7cd84",
   "metadata": {},
   "outputs": [
    {
     "data": {
      "text/plain": [
       "'가나다'"
      ]
     },
     "execution_count": 30,
     "metadata": {},
     "output_type": "execute_result"
    }
   ],
   "source": [
    "# 변수에 문자도 넣을 수 있다. \n",
    "C='가나다'\n",
    "C"
   ]
  },
  {
   "cell_type": "code",
   "execution_count": 31,
   "id": "cb990a4a",
   "metadata": {},
   "outputs": [
    {
     "data": {
      "text/plain": [
       "107.9"
      ]
     },
     "execution_count": 31,
     "metadata": {},
     "output_type": "execute_result"
    }
   ],
   "source": [
    "# 소수점도 가능\n",
    "radio_freq = 107.9\n",
    "radio_freq"
   ]
  },
  {
   "cell_type": "markdown",
   "id": "d117afa2",
   "metadata": {},
   "source": [
    "### 2.1.2 변수 이름 규칙(1)\n",
    "* 숫자 시작 변수\n",
    "* 공백 포함 변수\n",
    "* 기호 포함 변수(밑줄 제외)\n",
    "* 예약어"
   ]
  },
  {
   "cell_type": "markdown",
   "id": "3b9923bc",
   "metadata": {},
   "source": [
    "### 2.1.3 변수 이름 규칙(2)\n",
    "* 대소문자 구분\n",
    "* 한 번에 여러 변수 선언 가능\n",
    "* 하나의 값을 여러 변수에 담을 수 있다."
   ]
  },
  {
   "cell_type": "code",
   "execution_count": 32,
   "id": "8b2b787e",
   "metadata": {},
   "outputs": [
    {
     "data": {
      "text/plain": [
       "5"
      ]
     },
     "execution_count": 32,
     "metadata": {},
     "output_type": "execute_result"
    }
   ],
   "source": [
    "# 대소문자 구분\n",
    "abc = 5\n",
    "abc"
   ]
  },
  {
   "cell_type": "code",
   "execution_count": 33,
   "id": "cf15fa28",
   "metadata": {},
   "outputs": [
    {
     "data": {
      "text/plain": [
       "'Apple'"
      ]
     },
     "execution_count": 33,
     "metadata": {},
     "output_type": "execute_result"
    }
   ],
   "source": [
    "# 한 번에 여러 변수 선언 가능\n",
    "ABC = \"Apple\"\n",
    "ABC"
   ]
  },
  {
   "cell_type": "code",
   "execution_count": 34,
   "id": "01189ce6",
   "metadata": {},
   "outputs": [
    {
     "data": {
      "text/plain": [
       "'Apple'"
      ]
     },
     "execution_count": 34,
     "metadata": {},
     "output_type": "execute_result"
    }
   ],
   "source": [
    "x, y, z = \"Apple\",\"Banana\", \"Carrot\"\n",
    "x"
   ]
  },
  {
   "cell_type": "code",
   "execution_count": 35,
   "id": "d012360f",
   "metadata": {},
   "outputs": [
    {
     "data": {
      "text/plain": [
       "'Banana'"
      ]
     },
     "execution_count": 35,
     "metadata": {},
     "output_type": "execute_result"
    }
   ],
   "source": [
    "y"
   ]
  },
  {
   "cell_type": "code",
   "execution_count": 36,
   "id": "9d0a93db",
   "metadata": {},
   "outputs": [
    {
     "data": {
      "text/plain": [
       "'Carrot'"
      ]
     },
     "execution_count": 36,
     "metadata": {},
     "output_type": "execute_result"
    }
   ],
   "source": [
    "z"
   ]
  },
  {
   "cell_type": "code",
   "execution_count": 38,
   "id": "c50bf7b1",
   "metadata": {},
   "outputs": [
    {
     "data": {
      "text/plain": [
       "'Dag'"
      ]
     },
     "execution_count": 38,
     "metadata": {},
     "output_type": "execute_result"
    }
   ],
   "source": [
    "# 하나의 값에 여러 변수 담을 수 있다.\n",
    "x = y = z = \"Dag\"\n",
    "x"
   ]
  },
  {
   "cell_type": "code",
   "execution_count": 39,
   "id": "88863893",
   "metadata": {},
   "outputs": [
    {
     "data": {
      "text/plain": [
       "'Dag'"
      ]
     },
     "execution_count": 39,
     "metadata": {},
     "output_type": "execute_result"
    }
   ],
   "source": [
    "y"
   ]
  },
  {
   "cell_type": "code",
   "execution_count": 40,
   "id": "75454976",
   "metadata": {},
   "outputs": [
    {
     "data": {
      "text/plain": [
       "'Dag'"
      ]
     },
     "execution_count": 40,
     "metadata": {},
     "output_type": "execute_result"
    }
   ],
   "source": [
    "z"
   ]
  }
 ],
 "metadata": {
  "kernelspec": {
   "display_name": "Python 3",
   "language": "python",
   "name": "python3"
  },
  "language_info": {
   "codemirror_mode": {
    "name": "ipython",
    "version": 3
   },
   "file_extension": ".py",
   "mimetype": "text/x-python",
   "name": "python",
   "nbconvert_exporter": "python",
   "pygments_lexer": "ipython3",
   "version": "3.8.8"
  }
 },
 "nbformat": 4,
 "nbformat_minor": 5
}
