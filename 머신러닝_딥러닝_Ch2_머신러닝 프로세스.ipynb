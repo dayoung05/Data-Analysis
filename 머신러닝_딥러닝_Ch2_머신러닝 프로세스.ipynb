{
 "cells": [
  {
   "cell_type": "markdown",
   "id": "20801205",
   "metadata": {},
   "source": [
    "# Chapter 2 머신러닝 프로세스"
   ]
  },
  {
   "cell_type": "markdown",
   "id": "683f8b35",
   "metadata": {},
   "source": [
    "## 2.4 머신러닝 학습 절차\n",
    "**문제정의 - 데이터 전처리 - 학습 - 평가**"
   ]
  },
  {
   "cell_type": "markdown",
   "id": "9dfac85d",
   "metadata": {},
   "source": [
    "### 2.1.1 문제정의\n",
    "- 내가 해결하고자 하는 문제 무엇인지 이해, 머신러닝을 통해 달성하고 싶은 정의  \n",
    "- 요구사항 명확하게 하기\n",
    "\n",
    "#### **[머신러닝 학습 유형]**\n",
    "- 지도학습: 학습데이터O\n",
    "     - **분류(범주형)** 레이블이 범주형\n",
    "        + 이진분류: 두 가지만 존재\n",
    "        + 다중분류: a, b, c/10대~90대 분류  \n",
    "    - **회귀(실수형)** 레이블이 실수형  \n",
    "<br>\n",
    "<br>\n",
    "- **비지도학습**: 학습데이터X (특징 값만 가지고 있음 -> 사람의 해석 필요)\n",
    "    - **군집(클러스터링)**\n",
    "        - 분류와 군집의 차이: 분류는 정답을 알고 있음, 군집은 같은 그룹이라는 것만 알고 있고 해석이 필요  </u>\n",
    "    - **연관**"
   ]
  },
  {
   "cell_type": "markdown",
   "id": "39d97d5b",
   "metadata": {},
   "source": [
    "#### **[알고리즘 종류]**  \n",
    "**지도학습**\n",
    "- 분류   \n",
    "<u>*의사결정나무</u>  \n",
    "<u>*앙상블</u>  \n",
    "<u>*SVM</u>   \n",
    "<u>*KNN</u>    \n",
    "로지스틱회귀  \n",
    "*: 회귀도 가능\n",
    "<br>\n",
    "\n",
    "- 회귀  \n",
    "선형회귀  \n",
    "다항식회귀  \n",
    "릿지회귀  \n",
    "라쏘회귀  \n",
    "일래스틱넷  \n",
    "<br />\n",
    "\n",
    "**비지도학습**\n",
    "- 군집  \n",
    "계층적 군집화  \n",
    "k-means"
   ]
  },
  {
   "cell_type": "markdown",
   "id": "3aeecd06",
   "metadata": {},
   "source": [
    "### 2.1.2 데이터 전처리  \n",
    "1. **데이터 탐색(EDA): 수집 데이터 수, 누락, 잘못된 데이터 확인**\n",
    "     - 탐색적 데이터 분석  \n",
    "    : 데이터 직관을 얻기 위해 데이터 시각화, 데이터 요약 정보를 활용하여 데이터 분포 이해 과정  \n",
    "<br>\n",
    "<br>\n",
    "2. **데이터 정제: 데이터 변환, 불필요한 데이터 제거(결측치 제거)**\n",
    "<br>\n",
    "- [1차 정제 활동]  \n",
    "    1. 결측치 제거\n",
    "    - 특정 컬럼 결측치 50% 이상: 해당 컬럼 제거\n",
    "    - 특정 컬럼 결특치 5% 미만: 로우 삭제, 평균값, 중앙값 대체, 유추  \n",
    "    2. 문자형 -> 수치형으로 변경  \n",
    "3. **데이터 분할 (비율 7:3, 8:2)**\n",
    "    - 학습용 데이터 (학습용, 검증용)\n",
    "    - 테스트용 데이터  \n",
    "    <br>\n",
    "    <br>\n",
    "*유의 사항  \n",
    "    1. 범주형 데이터의 경우 특정 범주가 쏠리지 않도록 균일하게 분할\n",
    "    2. 학습용, 데스트용 데이터셋 반드시 동일한 조건으로 전처리  "
   ]
  },
  {
   "cell_type": "markdown",
   "id": "71acebc1",
   "metadata": {},
   "source": [
    "### 2.1.3 학습\n",
    "**학습모델.fit(독립변수X, 종속변수Y)**\n",
    "- 비지도 학습은 종속변수 없음"
   ]
  },
  {
   "cell_type": "markdown",
   "id": "fe37d96a",
   "metadata": {},
   "source": [
    "#### 1. 의사결정나무(Decision Tree)\n",
    "- 지도학습 기반 알고리즘\n",
    "- 분류모델, 회귀모델\n",
    "- 사람이 직관적으로 이해 쉬움\n",
    "- 다른 머신러닝 모델에 비해 정확도 떨어짐\n",
    "- 시각화 가능, 훈련 해석 용이\n",
    "- 개별 피터에 따른 조건을 만들기에 데이터 스케일, 노이즈 데이터에 큰 영향 X\n",
    "- 따라서, 정규화, 표준화와 같은 전처리 과정 필요 X\n",
    "- 과적합 쉽게 일어남 -> 여러 개의 의사결정나무 사용하는 '앙상블 방법'사용  \n",
    "    *.과적합  \n",
    "    : 학습 데이터에는 성능이 좋고, 실제 데이터에 성능이 떨어지는 경향\n",
    "\n",
    "**2. 학습과정**\n",
    "- 최적의 분기문을 만들기 위한 의사결정 조건을 찾고, 조건에 따라 나무 생성 과정\n",
    "- 최적 분기 조건 찾기 위해  불순도 낮아지는 조건(순도가 높다)\n",
    "- 불순도 설정값: 사람이 하이퍼파라미터(Hyperparameter) 설정\n",
    "- 나무 크다: 과적합(Overfitting), 너무 작다: 과소적합(Underfitting)\n",
    "\n",
    "***데이터 순도 측정방법**\n",
    "- 지니 불순도 Gini(D)\n",
    "- 엔트로피 E(D): 높으면 복잡, 따라서 가장 작은 지점에서 가지 분기"
   ]
  },
  {
   "cell_type": "markdown",
   "id": "5695a383",
   "metadata": {},
   "source": [
    "### 2.1.4 평가\n",
    "- 테스트셋 이용 (평과과정에는 학습데이터 이용X)\n",
    "1. 예측값 구하기\n",
    "2. 예측값과 실제값 비교\n",
    "3. 분류 모델 성능 평가 기본적인 방법: 정확도(Accuracy)"
   ]
  },
  {
   "cell_type": "markdown",
   "id": "fd133e2e",
   "metadata": {},
   "source": [
    "#### 1. 혼동행렬(Confusion Matrix)\n",
    "- 정확도(Accuracy): 긍정을 긍정으로, 부정을 부정으로 예측한 비율(정분류율)\n",
    "- 오분류율(Error Rate): 잘못 분류한 비율\n",
    "- 특이도(Specificiy): 부정 값을 부정으로 예측한 비율\n",
    "- 재현율=민감도: 긍정 값을 긍정으로 예측한 비율\n",
    "- 정밀도(precision): 긍정으로 예측한 것중에 실제로 긍정인 값의 비율\n",
    "- F1 Score 정밀도와 재현율의 조화 평균을 구하여, 하나의 지표로 사용"
   ]
  },
  {
   "cell_type": "markdown",
   "id": "b253d14b",
   "metadata": {},
   "source": [
    "#### 2 ROC 곡선\n",
    "- AUC 0.5~1 사이 값\n",
    "- 0.5: 모델 성능 전혀 없음\n"
   ]
  }
 ],
 "metadata": {
  "kernelspec": {
   "display_name": "Python 3 (ipykernel)",
   "language": "python",
   "name": "python3"
  },
  "language_info": {
   "codemirror_mode": {
    "name": "ipython",
    "version": 3
   },
   "file_extension": ".py",
   "mimetype": "text/x-python",
   "name": "python",
   "nbconvert_exporter": "python",
   "pygments_lexer": "ipython3",
   "version": "3.11.5"
  },
  "toc": {
   "base_numbering": "",
   "nav_menu": {},
   "number_sections": false,
   "sideBar": true,
   "skip_h1_title": false,
   "title_cell": "Table of Contents",
   "title_sidebar": "Contents",
   "toc_cell": false,
   "toc_position": {
    "height": "calc(100% - 180px)",
    "left": "10px",
    "top": "150px",
    "width": "165px"
   },
   "toc_section_display": true,
   "toc_window_display": false
  }
 },
 "nbformat": 4,
 "nbformat_minor": 5
}
