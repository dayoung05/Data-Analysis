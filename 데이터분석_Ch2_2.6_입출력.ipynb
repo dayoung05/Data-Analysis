{
 "cells": [
  {
   "cell_type": "markdown",
   "id": "2022c09f-5383-4edf-8c9d-6b59342e5c1d",
   "metadata": {},
   "source": [
    "# Chapter 2 파이썬 기본 문법 익히기\n",
    "# 2.6 입출력"
   ]
  },
  {
   "cell_type": "markdown",
   "id": "f1efa4f4-2dbc-446d-b5e1-de1b0aa97f47",
   "metadata": {},
   "source": [
    "- **input( )**: 사용자에게 직접 입력창을 보여주고 입력값을 받기 위해 사용하는 명령어\n",
    "- input() 실행 시 사용자로부터 입력 받을 수 있는 프롬프트 생성\n",
    "- 생성된 프롬프트에서 사용자가 값을 입력 -> 입력한 값을 문자열 형태로 반환"
   ]
  },
  {
   "cell_type": "markdown",
   "id": "640b1076",
   "metadata": {},
   "source": [
    "## 2.6.1 시스템 입력\n",
    "**Q1. 사용자로부터 이름을 입력 받고, 이름 함께 인사말을 출력하세요.**\n",
    "- input(), print() 사용"
   ]
  },
  {
   "cell_type": "code",
   "execution_count": 1,
   "id": "07335a68",
   "metadata": {},
   "outputs": [
    {
     "name": "stdout",
     "output_type": "stream",
     "text": [
      "이름을 입력하세요:최다영\n",
      "최다영님, 안녕하세요\n"
     ]
    }
   ],
   "source": [
    "name = input(\"이름을 입력하세요:\")  # 프롬프트 생성 후 응답 대기\n",
    "print(name +\"님, 안녕하세요\")"
   ]
  },
  {
   "cell_type": "markdown",
   "id": "3d50eee3",
   "metadata": {},
   "source": [
    "**Q2. 사용자로부터 키를 입력 받고, 권장 체중 출력 프로그램 작성하세요.**"
   ]
  },
  {
   "cell_type": "code",
   "execution_count": 2,
   "id": "f5a7d462",
   "metadata": {
    "scrolled": true
   },
   "outputs": [
    {
     "name": "stdout",
     "output_type": "stream",
     "text": [
      "키를 입력하세요180\n"
     ]
    },
    {
     "ename": "TypeError",
     "evalue": "unsupported operand type(s) for -: 'str' and 'int'",
     "output_type": "error",
     "traceback": [
      "\u001b[1;31m---------------------------------------------------------------------------\u001b[0m",
      "\u001b[1;31mTypeError\u001b[0m                                 Traceback (most recent call last)",
      "Cell \u001b[1;32mIn[2], line 2\u001b[0m\n\u001b[0;32m      1\u001b[0m height \u001b[38;5;241m=\u001b[39m \u001b[38;5;28minput\u001b[39m(\u001b[38;5;124m\"\u001b[39m\u001b[38;5;124m키를 입력하세요\u001b[39m\u001b[38;5;124m\"\u001b[39m)\n\u001b[1;32m----> 2\u001b[0m weight \u001b[38;5;241m=\u001b[39m (height \u001b[38;5;241m-\u001b[39m \u001b[38;5;241m100\u001b[39m) \u001b[38;5;241m*\u001b[39m \u001b[38;5;241m0.9\u001b[39m\n\u001b[0;32m      4\u001b[0m \u001b[38;5;28mprint\u001b[39m(\u001b[38;5;124m\"\u001b[39m\u001b[38;5;124m권장 체중은 \u001b[39m\u001b[38;5;124m\"\u001b[39m\u001b[38;5;241m+\u001b[39m weight \u001b[38;5;241m+\u001b[39m \u001b[38;5;124m\"\u001b[39m\u001b[38;5;124mkg 입니다\u001b[39m\u001b[38;5;124m\"\u001b[39m )\n",
      "\u001b[1;31mTypeError\u001b[0m: unsupported operand type(s) for -: 'str' and 'int'"
     ]
    }
   ],
   "source": [
    "height = input(\"키를 입력하세요\")\n",
    "weight = (height - 100) * 0.9\n",
    "\n",
    "print(\"권장 체중은 \"+ weight + \"kg 입니다\" )"
   ]
  },
  {
   "cell_type": "markdown",
   "id": "5743c3a0",
   "metadata": {},
   "source": [
    "### 에러 발생이유_1\n",
    "- input()으로 입력 받은 숫자(height)가 str로 인식\n",
    "- **float()을 사용하여 형 변환 진행하기**"
   ]
  },
  {
   "cell_type": "code",
   "execution_count": 3,
   "id": "56099c27",
   "metadata": {},
   "outputs": [
    {
     "name": "stdout",
     "output_type": "stream",
     "text": [
      "키를 입력하세요180\n"
     ]
    },
    {
     "ename": "TypeError",
     "evalue": "can only concatenate str (not \"float\") to str",
     "output_type": "error",
     "traceback": [
      "\u001b[1;31m---------------------------------------------------------------------------\u001b[0m",
      "\u001b[1;31mTypeError\u001b[0m                                 Traceback (most recent call last)",
      "Cell \u001b[1;32mIn[3], line 4\u001b[0m\n\u001b[0;32m      1\u001b[0m height \u001b[38;5;241m=\u001b[39m \u001b[38;5;28minput\u001b[39m(\u001b[38;5;124m\"\u001b[39m\u001b[38;5;124m키를 입력하세요\u001b[39m\u001b[38;5;124m\"\u001b[39m)\n\u001b[0;32m      2\u001b[0m weight \u001b[38;5;241m=\u001b[39m (\u001b[38;5;28mfloat\u001b[39m(height) \u001b[38;5;241m-\u001b[39m \u001b[38;5;241m100\u001b[39m) \u001b[38;5;241m*\u001b[39m \u001b[38;5;241m0.9\u001b[39m\n\u001b[1;32m----> 4\u001b[0m \u001b[38;5;28mprint\u001b[39m(\u001b[38;5;124m\"\u001b[39m\u001b[38;5;124m권장 체중은 \u001b[39m\u001b[38;5;124m\"\u001b[39m\u001b[38;5;241m+\u001b[39m weight \u001b[38;5;241m+\u001b[39m \u001b[38;5;124m\"\u001b[39m\u001b[38;5;124mkg 입니다\u001b[39m\u001b[38;5;124m\"\u001b[39m )\n",
      "\u001b[1;31mTypeError\u001b[0m: can only concatenate str (not \"float\") to str"
     ]
    }
   ],
   "source": [
    "height = input(\"키를 입력하세요\")\n",
    "weight = (float(height) - 100) * 0.9\n",
    "\n",
    "print(\"권장 체중은 \"+ weight + \"kg 입니다\" )"
   ]
  },
  {
   "cell_type": "markdown",
   "id": "1ea1e8ac",
   "metadata": {},
   "source": [
    "### 에러 발생이유_2\n",
    "- float(실수형) 데이터가 아닌 str(문자형) 데이터만 연속적으로 연속적으로 연결 가능\n",
    "- **실수형을 문자형으로 변환 진행하기**"
   ]
  },
  {
   "cell_type": "code",
   "execution_count": 4,
   "id": "92719845",
   "metadata": {},
   "outputs": [
    {
     "name": "stdout",
     "output_type": "stream",
     "text": [
      "키를 입력하세요180\n",
      "권장 체중은 72.0kg 입니다\n"
     ]
    }
   ],
   "source": [
    "height = input(\"키를 입력하세요\")\n",
    "weight = (float(height) - 100) * 0.9\n",
    "\n",
    "print(\"권장 체중은 \"+ str(weight) + \"kg 입니다\" )"
   ]
  },
  {
   "cell_type": "markdown",
   "id": "c5e65387",
   "metadata": {},
   "source": [
    "## 2.6.2 시스템 출력\n",
    "### print() 콤마, 공백(space)로 연결된 하나의 문자열이 출력"
   ]
  },
  {
   "cell_type": "code",
   "execution_count": 5,
   "id": "5e1bc6b6",
   "metadata": {},
   "outputs": [
    {
     "name": "stdout",
     "output_type": "stream",
     "text": [
      "apple peach mango\n"
     ]
    }
   ],
   "source": [
    "print(\"apple\", \"peach\", \"mango\")"
   ]
  },
  {
   "cell_type": "markdown",
   "id": "f8153b0b",
   "metadata": {},
   "source": [
    "**sep 설정: 연결인자 변경 가능**\n",
    "- sep = \"\" : 기본 설정 공백"
   ]
  },
  {
   "cell_type": "code",
   "execution_count": 10,
   "id": "664f77fc",
   "metadata": {},
   "outputs": [
    {
     "name": "stdout",
     "output_type": "stream",
     "text": [
      "apple,peach,mango\n"
     ]
    }
   ],
   "source": [
    "print(\"apple\", \"peach\", \"mango\", sep = \",\")"
   ]
  },
  {
   "cell_type": "markdown",
   "id": "2348d689",
   "metadata": {},
   "source": [
    "**print 연속으로 호출한 경우 문자열 줄바꿈되어 출력**"
   ]
  },
  {
   "cell_type": "code",
   "execution_count": 7,
   "id": "ac560529",
   "metadata": {},
   "outputs": [
    {
     "name": "stdout",
     "output_type": "stream",
     "text": [
      "원숭이 엉덩이는 빨개\n",
      "빨가면 사과\n"
     ]
    }
   ],
   "source": [
    "print(\"원숭이 엉덩이는 빨개\")\n",
    "print(\"빨가면 사과\")"
   ]
  },
  {
   "cell_type": "markdown",
   "id": "ba7eaaca",
   "metadata": {},
   "source": [
    "**end설정: 출력 후 표시되는 마지막 부분 변경 가능**\n",
    "- 기본설정 개행문자(\\n)\n",
    "- end = \"\"라고 지정하여 줄바꿈 없이 출력"
   ]
  },
  {
   "cell_type": "code",
   "execution_count": 8,
   "id": "291e225b",
   "metadata": {},
   "outputs": [
    {
     "name": "stdout",
     "output_type": "stream",
     "text": [
      "원숭이 엉덩이는 빨개빨가면 사과\n"
     ]
    }
   ],
   "source": [
    "print(\"원숭이 엉덩이는 빨개\", end = \"\")\n",
    "print(\"빨가면 사과\")"
   ]
  },
  {
   "cell_type": "markdown",
   "id": "b46a500e",
   "metadata": {},
   "source": [
    "**개행 문자를 문자열 안에 사용 시 줄바꿈으로 실행됨**"
   ]
  },
  {
   "cell_type": "code",
   "execution_count": 11,
   "id": "276b4b74",
   "metadata": {},
   "outputs": [
    {
     "name": "stdout",
     "output_type": "stream",
     "text": [
      "산토끼 토끼야 \n",
      " 어디를 가느냐 \n",
      " 깡총깡총 뛰어서 \n",
      " 어디를 가느냐\n"
     ]
    }
   ],
   "source": [
    "print(\"산토끼 토끼야 \\n 어디를 가느냐 \\n 깡총깡총 뛰어서 \\n 어디를 가느냐\" )"
   ]
  },
  {
   "cell_type": "markdown",
   "id": "3084c412",
   "metadata": {},
   "source": [
    "### 포맷 스트링(Format String): 특정 형태로 표시하여 출력 가능\n",
    "- 동일 표현 특정 단어만 변경하여 만들어야 하는 경우"
   ]
  },
  {
   "cell_type": "code",
   "execution_count": 12,
   "id": "9c7032c0",
   "metadata": {},
   "outputs": [
    {
     "name": "stdout",
     "output_type": "stream",
     "text": [
      "나는 치킨을 먹고 싶다\n"
     ]
    }
   ],
   "source": [
    "food = '치킨'\n",
    "text = '나는 {}을 먹고 싶다'\n",
    "print(text.format(food))"
   ]
  },
  {
   "cell_type": "code",
   "execution_count": 13,
   "id": "be3300a5",
   "metadata": {},
   "outputs": [
    {
     "name": "stdout",
     "output_type": "stream",
     "text": [
      "나는 치킨을 먹고 싶다\n"
     ]
    }
   ],
   "source": [
    "print(\"나는 {}을 먹고 싶다\".format('치킨'))"
   ]
  },
  {
   "cell_type": "markdown",
   "id": "049cde10",
   "metadata": {},
   "source": [
    " **1. 여러 단어 치환 가능**"
   ]
  },
  {
   "cell_type": "code",
   "execution_count": 15,
   "id": "2555897f",
   "metadata": {},
   "outputs": [
    {
     "name": "stdout",
     "output_type": "stream",
     "text": [
      "나는 피자, 치킨을 먹고 싶다\n"
     ]
    }
   ],
   "source": [
    "food1 = '피자'\n",
    "food2 = '치킨'\n",
    "text = '나는 {}, {}을 먹고 싶다'\n",
    "\n",
    "print(text.format(food1, food2))"
   ]
  },
  {
   "cell_type": "markdown",
   "id": "5a0822ee",
   "metadata": {},
   "source": [
    "**2. 중괄호 안에 숫자 표시하여 치환 단어 명시 가능**"
   ]
  },
  {
   "cell_type": "code",
   "execution_count": 18,
   "id": "58a46ab7",
   "metadata": {},
   "outputs": [
    {
     "name": "stdout",
     "output_type": "stream",
     "text": [
      "나는 피자, 치킨을 먹고 싶다. 우리집엔 치킨이 배달되지 않아 슬프다.\n"
     ]
    }
   ],
   "source": [
    "print(\"나는 {0}, {1}을 먹고 싶다. 우리집엔 {1}이 배달되지 않아 슬프다.\".format(\"피자\",\"치킨\"))"
   ]
  },
  {
   "cell_type": "markdown",
   "id": "2aba1fbd",
   "metadata": {},
   "source": [
    "**3. %s 사용하여 치환 가능**"
   ]
  },
  {
   "cell_type": "code",
   "execution_count": 20,
   "id": "96a45c70",
   "metadata": {},
   "outputs": [
    {
     "name": "stdout",
     "output_type": "stream",
     "text": [
      "나는 치킨을 먹고 싶다\n"
     ]
    }
   ],
   "source": [
    "food = '치킨'\n",
    "print('나는 %s을 먹고 싶다'%food)"
   ]
  },
  {
   "cell_type": "markdown",
   "id": "49bdf234",
   "metadata": {},
   "source": [
    "**4. 숫자 적용 가능**\n",
    "- d 정수형\n",
    "- f 실수형"
   ]
  },
  {
   "cell_type": "code",
   "execution_count": 22,
   "id": "b4451009",
   "metadata": {},
   "outputs": [
    {
     "name": "stdout",
     "output_type": "stream",
     "text": [
      "99.12% 확신합니다.\n"
     ]
    }
   ],
   "source": [
    "print(\"{:.2f}% 확신합니다.\".format(99.123456788))"
   ]
  },
  {
   "cell_type": "code",
   "execution_count": 23,
   "id": "c7abd5c0",
   "metadata": {},
   "outputs": [
    {
     "name": "stdout",
     "output_type": "stream",
     "text": [
      "한 달 휴대폰 요금은 100,000원입니다.\n"
     ]
    }
   ],
   "source": [
    "# 자릿수 콤마 설정\n",
    "print(\"한 달 휴대폰 요금은 {:,}원입니다.\".format(100000))"
   ]
  },
  {
   "cell_type": "markdown",
   "id": "bb325f93",
   "metadata": {},
   "source": [
    "## 파일 입출력\n",
    "### 쓰기모드"
   ]
  },
  {
   "cell_type": "code",
   "execution_count": 27,
   "id": "d333dc65",
   "metadata": {},
   "outputs": [],
   "source": [
    "f = open('abc.txt','w') # 쓰기모드로 파일 열기\n",
    "f.write('A B C D E F G')\n",
    "f.close()"
   ]
  },
  {
   "cell_type": "markdown",
   "id": "1e37159b",
   "metadata": {},
   "source": [
    "### 읽기모드"
   ]
  },
  {
   "cell_type": "code",
   "execution_count": 29,
   "id": "394c6129",
   "metadata": {},
   "outputs": [
    {
     "name": "stdout",
     "output_type": "stream",
     "text": [
      "A B C D E F G\n"
     ]
    }
   ],
   "source": [
    "f = open('abc.txt','r')\n",
    "print(f.read())\n",
    "f.close()"
   ]
  },
  {
   "cell_type": "code",
   "execution_count": 31,
   "id": "9149abd5",
   "metadata": {},
   "outputs": [
    {
     "name": "stdout",
     "output_type": "stream",
     "text": [
      "a b c d e f g\n"
     ]
    }
   ],
   "source": [
    "# 내용이 덮어쓰여짐\n",
    "\n",
    "f = open('abc.txt','w')\n",
    "f.write('a b c d e f g')\n",
    "f.close()\n",
    "\n",
    "f = open('abc.txt','r')\n",
    "print(f.read())\n",
    "f.close()"
   ]
  },
  {
   "cell_type": "markdown",
   "id": "da045bfb",
   "metadata": {},
   "source": [
    "### 추가(append)모드\n",
    "- readlines() 여러 줄의 코드가 작성된 문서의 경우, 줄단위로 끊어서 파일 읽어오는 방법\n",
    "- close() 호출하지 않은 경우 **with구문** 사용"
   ]
  },
  {
   "cell_type": "code",
   "execution_count": 34,
   "id": "f7f6c9a9",
   "metadata": {},
   "outputs": [
    {
     "name": "stdout",
     "output_type": "stream",
     "text": [
      "a b c d e f gㄱ ㄴ ㄷ ㄹ ㅁ ㅂ ㅅ ㅇㄱ ㄴ ㄷ ㄹ ㅁ ㅂ ㅅ ㅇ\n"
     ]
    }
   ],
   "source": [
    "f = open('abc.txt','a')\n",
    "f.write('ㄱ ㄴ ㄷ ㄹ ㅁ ㅂ ㅅ ㅇ')\n",
    "f.close()\n",
    "\n",
    "# 읽기모드 파일 열기\n",
    "f = open('abc.txt','r')\n",
    "lines = f.readlines()\n",
    "for line in lines:\n",
    "    print(line)\n",
    "f.close()"
   ]
  },
  {
   "cell_type": "code",
   "execution_count": 35,
   "id": "97467d96",
   "metadata": {},
   "outputs": [
    {
     "name": "stdout",
     "output_type": "stream",
     "text": [
      "2020년 3월 12일 금요일\n",
      "날씨 맑음\n"
     ]
    }
   ],
   "source": [
    "with open(\"일기.txt\", 'w') as f:\n",
    "    f.write('2020년 3월 12일 금요일\\n')\n",
    "    \n",
    "with open(\"일기.txt\", 'a') as f:\n",
    "    f.write('날씨 맑음')\n",
    "    \n",
    "with open(\"일기.txt\", 'r') as f:\n",
    "    print(f.read())"
   ]
  },
  {
   "cell_type": "code",
   "execution_count": null,
   "id": "0c891ed2",
   "metadata": {},
   "outputs": [],
   "source": []
  }
 ],
 "metadata": {
  "kernelspec": {
   "display_name": "Python 3 (ipykernel)",
   "language": "python",
   "name": "python3"
  },
  "language_info": {
   "codemirror_mode": {
    "name": "ipython",
    "version": 3
   },
   "file_extension": ".py",
   "mimetype": "text/x-python",
   "name": "python",
   "nbconvert_exporter": "python",
   "pygments_lexer": "ipython3",
   "version": "3.11.5"
  },
  "toc": {
   "base_numbering": 1,
   "nav_menu": {},
   "number_sections": true,
   "sideBar": true,
   "skip_h1_title": false,
   "title_cell": "Table of Contents",
   "title_sidebar": "Contents",
   "toc_cell": false,
   "toc_position": {},
   "toc_section_display": true,
   "toc_window_display": false
  }
 },
 "nbformat": 4,
 "nbformat_minor": 5
}
