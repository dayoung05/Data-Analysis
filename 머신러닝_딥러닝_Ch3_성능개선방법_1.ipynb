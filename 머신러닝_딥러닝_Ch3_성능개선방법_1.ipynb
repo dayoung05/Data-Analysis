{
 "cells": [
  {
   "cell_type": "markdown",
   "id": "79133a44",
   "metadata": {},
   "source": [
    "# Chapter 3 분류 모델의 성능 개선 방법"
   ]
  },
  {
   "cell_type": "markdown",
   "id": "c2e13dd9",
   "metadata": {},
   "source": [
    "## 3.1.1 학습 데이터 변경\n"
   ]
  },
  {
   "cell_type": "markdown",
   "id": "5868783b",
   "metadata": {},
   "source": [
    "1. 교차검증: 기존의 독립변수가 가지는 의미를 내포한 새로운 변수\n",
    "2. 스케일링: 범위를 모두 0~1사이에 분포하도록 변환\n",
    "3. 차원축소: 학습용 데이터와 검증용 데이터의 역할을 번갈아 가면서 학습을 진행\n",
    "    - 학습용, 검증용은 섞이지 않아야함.\n"
   ]
  },
  {
   "cell_type": "markdown",
   "id": "c81b5b50",
   "metadata": {},
   "source": [
    "## 3.1.2 학습 방법 변경\n",
    "1. 다른 모델\n",
    "2. 하이퍼파라미터 튜닝\n",
    "3. 이른 종료: 학습 데이터에는 성능 좋아지지만, 검증 데이터에 대해 성능 개선이 없을 경우, 과적합 징조라 판단 후 학습 중단"
   ]
  },
  {
   "cell_type": "markdown",
   "id": "f367198a",
   "metadata": {},
   "source": [
    "## 3.2.1 교차검증\n",
    "**훈련용, 검증용 역할을 교차로 하는 방법**\n",
    "- 1단계: 최적의 학습 모델 조건 찾기  \n",
    "    하이퍼파라미터 후보 → 교차검증 → 최적 하이퍼파라미터 추출\n",
    "- 2단계: 최적의 학습 조건으로 학습하기  \n",
    "    학습 데이터 → 모델 생성 → 모델 평가   \n",
    "    테스트 데이터 → 모델 평가"
   ]
  },
  {
   "cell_type": "markdown",
   "id": "b0e46841",
   "metadata": {},
   "source": [
    "### 1. K-fold 방식\n",
    "- 데이터 k개로 분할하여 1/k에 해당되는 데이터셋을 학습용, 나머지 검증용으로 사용  "
   ]
  },
  {
   "cell_type": "code",
   "execution_count": 113,
   "id": "cdac8fdb",
   "metadata": {},
   "outputs": [],
   "source": [
    "import pandas as pd\n",
    "import numpy as np\n",
    "import seaborn as sns\n",
    "from sklearn.datasets import load_iris\n",
    "from sklearn.model_selection import KFold\n",
    "import warnings\n",
    "warnings.filterwarnings('ignore')"
   ]
  },
  {
   "cell_type": "code",
   "execution_count": 114,
   "id": "2af43bfc",
   "metadata": {
    "scrolled": true
   },
   "outputs": [
    {
     "data": {
      "text/plain": [
       "['sepal length (cm)',\n",
       " 'sepal width (cm)',\n",
       " 'petal length (cm)',\n",
       " 'petal width (cm)']"
      ]
     },
     "execution_count": 114,
     "metadata": {},
     "output_type": "execute_result"
    }
   ],
   "source": [
    "iris = load_iris()\n",
    "iris.feature_names"
   ]
  },
  {
   "cell_type": "code",
   "execution_count": 115,
   "id": "df6758ad",
   "metadata": {},
   "outputs": [
    {
     "data": {
      "text/plain": [
       "array([0, 0, 0, 0, 0, 0, 0, 0, 0, 0, 0, 0, 0, 0, 0, 0, 0, 0, 0, 0, 0, 0,\n",
       "       0, 0, 0, 0, 0, 0, 0, 0, 0, 0, 0, 0, 0, 0, 0, 0, 0, 0, 0, 0, 0, 0,\n",
       "       0, 0, 0, 0, 0, 0, 1, 1, 1, 1, 1, 1, 1, 1, 1, 1, 1, 1, 1, 1, 1, 1,\n",
       "       1, 1, 1, 1, 1, 1, 1, 1, 1, 1, 1, 1, 1, 1, 1, 1, 1, 1, 1, 1, 1, 1,\n",
       "       1, 1, 1, 1, 1, 1, 1, 1, 1, 1, 1, 1, 2, 2, 2, 2, 2, 2, 2, 2, 2, 2,\n",
       "       2, 2, 2, 2, 2, 2, 2, 2, 2, 2, 2, 2, 2, 2, 2, 2, 2, 2, 2, 2, 2, 2,\n",
       "       2, 2, 2, 2, 2, 2, 2, 2, 2, 2, 2, 2, 2, 2, 2, 2, 2, 2])"
      ]
     },
     "execution_count": 115,
     "metadata": {},
     "output_type": "execute_result"
    }
   ],
   "source": [
    "iris.target"
   ]
  },
  {
   "cell_type": "code",
   "execution_count": 116,
   "id": "5947f417",
   "metadata": {
    "scrolled": false
   },
   "outputs": [
    {
     "data": {
      "text/html": [
       "<div>\n",
       "<style scoped>\n",
       "    .dataframe tbody tr th:only-of-type {\n",
       "        vertical-align: middle;\n",
       "    }\n",
       "\n",
       "    .dataframe tbody tr th {\n",
       "        vertical-align: top;\n",
       "    }\n",
       "\n",
       "    .dataframe thead th {\n",
       "        text-align: right;\n",
       "    }\n",
       "</style>\n",
       "<table border=\"1\" class=\"dataframe\">\n",
       "  <thead>\n",
       "    <tr style=\"text-align: right;\">\n",
       "      <th></th>\n",
       "      <th>sepal length (cm)</th>\n",
       "      <th>sepal width (cm)</th>\n",
       "      <th>petal length (cm)</th>\n",
       "      <th>petal width (cm)</th>\n",
       "      <th>label</th>\n",
       "    </tr>\n",
       "  </thead>\n",
       "  <tbody>\n",
       "    <tr>\n",
       "      <th>0</th>\n",
       "      <td>5.1</td>\n",
       "      <td>3.5</td>\n",
       "      <td>1.4</td>\n",
       "      <td>0.2</td>\n",
       "      <td>0</td>\n",
       "    </tr>\n",
       "    <tr>\n",
       "      <th>1</th>\n",
       "      <td>4.9</td>\n",
       "      <td>3.0</td>\n",
       "      <td>1.4</td>\n",
       "      <td>0.2</td>\n",
       "      <td>0</td>\n",
       "    </tr>\n",
       "    <tr>\n",
       "      <th>2</th>\n",
       "      <td>4.7</td>\n",
       "      <td>3.2</td>\n",
       "      <td>1.3</td>\n",
       "      <td>0.2</td>\n",
       "      <td>0</td>\n",
       "    </tr>\n",
       "    <tr>\n",
       "      <th>3</th>\n",
       "      <td>4.6</td>\n",
       "      <td>3.1</td>\n",
       "      <td>1.5</td>\n",
       "      <td>0.2</td>\n",
       "      <td>0</td>\n",
       "    </tr>\n",
       "    <tr>\n",
       "      <th>4</th>\n",
       "      <td>5.0</td>\n",
       "      <td>3.6</td>\n",
       "      <td>1.4</td>\n",
       "      <td>0.2</td>\n",
       "      <td>0</td>\n",
       "    </tr>\n",
       "  </tbody>\n",
       "</table>\n",
       "</div>"
      ],
      "text/plain": [
       "   sepal length (cm)  sepal width (cm)  petal length (cm)  petal width (cm)  \\\n",
       "0                5.1               3.5                1.4               0.2   \n",
       "1                4.9               3.0                1.4               0.2   \n",
       "2                4.7               3.2                1.3               0.2   \n",
       "3                4.6               3.1                1.5               0.2   \n",
       "4                5.0               3.6                1.4               0.2   \n",
       "\n",
       "   label  \n",
       "0      0  \n",
       "1      0  \n",
       "2      0  \n",
       "3      0  \n",
       "4      0  "
      ]
     },
     "execution_count": 116,
     "metadata": {},
     "output_type": "execute_result"
    }
   ],
   "source": [
    "iris_df=pd.DataFrame(data = iris.data, columns= iris.feature_names)\n",
    "iris_df['label'] = iris.target\n",
    "iris_df.head()"
   ]
  },
  {
   "cell_type": "code",
   "execution_count": 117,
   "id": "1afc10d3",
   "metadata": {},
   "outputs": [
    {
     "name": "stdout",
     "output_type": "stream",
     "text": [
      "<class 'pandas.core.frame.DataFrame'>\n",
      "Index: 149 entries, 0 to 149\n",
      "Data columns (total 5 columns):\n",
      " #   Column             Non-Null Count  Dtype  \n",
      "---  ------             --------------  -----  \n",
      " 0   sepal length (cm)  149 non-null    float64\n",
      " 1   sepal width (cm)   149 non-null    float64\n",
      " 2   petal length (cm)  149 non-null    float64\n",
      " 3   petal width (cm)   149 non-null    float64\n",
      " 4   label              149 non-null    int32  \n",
      "dtypes: float64(4), int32(1)\n",
      "memory usage: 6.4 KB\n"
     ]
    }
   ],
   "source": [
    "iris_df.drop_duplicates(keep = 'first', inplace=True)\n",
    "iris_df.info()"
   ]
  },
  {
   "cell_type": "code",
   "execution_count": 118,
   "id": "e8fe0df4",
   "metadata": {},
   "outputs": [],
   "source": [
    "X = iris_df.iloc[:,:4]\n",
    "y = iris_df['label']"
   ]
  },
  {
   "cell_type": "code",
   "execution_count": 119,
   "id": "c65c5719",
   "metadata": {},
   "outputs": [],
   "source": [
    "from sklearn.model_selection import train_test_split\n",
    "X_train, X_test, y_train, y_test = train_test_split(X,y,random_state = 42,stratify = y)"
   ]
  },
  {
   "cell_type": "code",
   "execution_count": 120,
   "id": "27c2a414",
   "metadata": {},
   "outputs": [
    {
     "name": "stdout",
     "output_type": "stream",
     "text": [
      "---------------------------\n",
      "학습용: [ 50  51  52  53  54  55  56  57  58  59  60  61  62  63  64  65  66  67\n",
      "  68  69  70  71  72  73  74  75  76  77  78  79  80  81  82  83  84  85\n",
      "  86  87  88  89  90  91  92  93  94  95  96  97  98  99 100 101 102 103\n",
      " 104 105 106 107 108 109 110 111 112 113 114 115 116 117 118 119 120 121\n",
      " 122 123 124 125 126 127 128 129 130 131 132 133 134 135 136 137 138 139\n",
      " 140 141 142 143 144 145 146 147 148]\n",
      "\n",
      "학습용 레이블 [1 2]\n",
      "\n",
      "테스트용: [ 0  1  2  3  4  5  6  7  8  9 10 11 12 13 14 15 16 17 18 19 20 21 22 23\n",
      " 24 25 26 27 28 29 30 31 32 33 34 35 36 37 38 39 40 41 42 43 44 45 46 47\n",
      " 48 49]\n",
      "\n",
      "테스트용 레이블 [0]\n",
      "---------------------------\n",
      "학습용: [  0   1   2   3   4   5   6   7   8   9  10  11  12  13  14  15  16  17\n",
      "  18  19  20  21  22  23  24  25  26  27  28  29  30  31  32  33  34  35\n",
      "  36  37  38  39  40  41  42  43  44  45  46  47  48  49 100 101 102 103\n",
      " 104 105 106 107 108 109 110 111 112 113 114 115 116 117 118 119 120 121\n",
      " 122 123 124 125 126 127 128 129 130 131 132 133 134 135 136 137 138 139\n",
      " 140 141 142 143 144 145 146 147 148]\n",
      "\n",
      "학습용 레이블 [0 2]\n",
      "\n",
      "테스트용: [50 51 52 53 54 55 56 57 58 59 60 61 62 63 64 65 66 67 68 69 70 71 72 73\n",
      " 74 75 76 77 78 79 80 81 82 83 84 85 86 87 88 89 90 91 92 93 94 95 96 97\n",
      " 98 99]\n",
      "\n",
      "테스트용 레이블 [1]\n",
      "---------------------------\n",
      "학습용: [ 0  1  2  3  4  5  6  7  8  9 10 11 12 13 14 15 16 17 18 19 20 21 22 23\n",
      " 24 25 26 27 28 29 30 31 32 33 34 35 36 37 38 39 40 41 42 43 44 45 46 47\n",
      " 48 49 50 51 52 53 54 55 56 57 58 59 60 61 62 63 64 65 66 67 68 69 70 71\n",
      " 72 73 74 75 76 77 78 79 80 81 82 83 84 85 86 87 88 89 90 91 92 93 94 95\n",
      " 96 97 98 99]\n",
      "\n",
      "학습용 레이블 [0 1]\n",
      "\n",
      "테스트용: [100 101 102 103 104 105 106 107 108 109 110 111 112 113 114 115 116 117\n",
      " 118 119 120 121 122 123 124 125 126 127 128 129 130 131 132 133 134 135\n",
      " 136 137 138 139 140 141 142 143 144 145 146 147 148]\n",
      "\n",
      "테스트용 레이블 [2]\n"
     ]
    }
   ],
   "source": [
    "kf = KFold(n_splits = 3) # 기본값 = 5\n",
    "for train_index, test_index in kf.split(X):\n",
    "    print('---------------------------')\n",
    "    print('학습용:', train_index)\n",
    "    print('\\n학습용 레이블', y.iloc[train_index].unique())\n",
    "    print('\\n테스트용:', test_index)\n",
    "    print('\\n테스트용 레이블', y.iloc[test_index].unique())"
   ]
  },
  {
   "cell_type": "markdown",
   "id": "295e7599",
   "metadata": {},
   "source": [
    "- 중복없이 역할 변경되었지만 첫번째 분할에서 학습용이 1,2 테스트 용이 0 할당\n",
    "- 첫 번째에서는 0 학습이 되지 않고 검증하는 상황 발생\n",
    "- 결론: 좋은 성능 기대할 수 없음"
   ]
  },
  {
   "cell_type": "markdown",
   "id": "48512b20",
   "metadata": {},
   "source": [
    "### 2. Stratified K-fold 방식\n",
    "- 카테고리를 나타내는 레이블 데이터를 균일한 분포로 학습용, 검증용으로 분할\n",
    "- 특정 레이블의 데이터만 많이 존재하는 왜곡된 레이블 데이터세트는 반드시 Stratified K-fold 이용"
   ]
  },
  {
   "cell_type": "code",
   "execution_count": 121,
   "id": "b3c55aaa",
   "metadata": {},
   "outputs": [
    {
     "name": "stdout",
     "output_type": "stream",
     "text": [
      "---------------------------\n",
      "학습용: [ 17  18  19  20  21  22  23  24  25  26  27  28  29  30  31  32  33  34\n",
      "  35  36  37  38  39  40  41  42  43  44  45  46  47  48  49  67  68  69\n",
      "  70  71  72  73  74  75  76  77  78  79  80  81  82  83  84  85  86  87\n",
      "  88  89  90  91  92  93  94  95  96  97  98  99 116 117 118 119 120 121\n",
      " 122 123 124 125 126 127 128 129 130 131 132 133 134 135 136 137 138 139\n",
      " 140 141 142 143 144 145 146 147 148]\n",
      "\n",
      "학습용 레이블 [0 1 2]\n",
      "\n",
      "테스트용: [  0   1   2   3   4   5   6   7   8   9  10  11  12  13  14  15  16  50\n",
      "  51  52  53  54  55  56  57  58  59  60  61  62  63  64  65  66 100 101\n",
      " 102 103 104 105 106 107 108 109 110 111 112 113 114 115]\n",
      "\n",
      "테스트용 레이블 [0 1 2]\n",
      "---------------------------\n",
      "학습용: [  0   1   2   3   4   5   6   7   8   9  10  11  12  13  14  15  16  34\n",
      "  35  36  37  38  39  40  41  42  43  44  45  46  47  48  49  50  51  52\n",
      "  53  54  55  56  57  58  59  60  61  62  63  64  65  66  83  84  85  86\n",
      "  87  88  89  90  91  92  93  94  95  96  97  98  99 100 101 102 103 104\n",
      " 105 106 107 108 109 110 111 112 113 114 115 133 134 135 136 137 138 139\n",
      " 140 141 142 143 144 145 146 147 148]\n",
      "\n",
      "학습용 레이블 [0 1 2]\n",
      "\n",
      "테스트용: [ 17  18  19  20  21  22  23  24  25  26  27  28  29  30  31  32  33  67\n",
      "  68  69  70  71  72  73  74  75  76  77  78  79  80  81  82 116 117 118\n",
      " 119 120 121 122 123 124 125 126 127 128 129 130 131 132]\n",
      "\n",
      "테스트용 레이블 [0 1 2]\n",
      "---------------------------\n",
      "학습용: [  0   1   2   3   4   5   6   7   8   9  10  11  12  13  14  15  16  17\n",
      "  18  19  20  21  22  23  24  25  26  27  28  29  30  31  32  33  50  51\n",
      "  52  53  54  55  56  57  58  59  60  61  62  63  64  65  66  67  68  69\n",
      "  70  71  72  73  74  75  76  77  78  79  80  81  82 100 101 102 103 104\n",
      " 105 106 107 108 109 110 111 112 113 114 115 116 117 118 119 120 121 122\n",
      " 123 124 125 126 127 128 129 130 131 132]\n",
      "\n",
      "학습용 레이블 [0 1 2]\n",
      "\n",
      "테스트용: [ 34  35  36  37  38  39  40  41  42  43  44  45  46  47  48  49  83  84\n",
      "  85  86  87  88  89  90  91  92  93  94  95  96  97  98  99 133 134 135\n",
      " 136 137 138 139 140 141 142 143 144 145 146 147 148]\n",
      "\n",
      "테스트용 레이블 [0 1 2]\n"
     ]
    }
   ],
   "source": [
    "from sklearn.model_selection import StratifiedKFold\n",
    "\n",
    "skf = StratifiedKFold(n_splits=3)\n",
    "for train_index,test_index in skf.split(X,y):\n",
    "    print('---------------------------')\n",
    "    print('학습용:', train_index)\n",
    "    print('\\n학습용 레이블', y.iloc[train_index].unique())\n",
    "    print('\\n테스트용:', test_index)\n",
    "    print('\\n테스트용 레이블', y.iloc[test_index].unique())"
   ]
  },
  {
   "cell_type": "markdown",
   "id": "326fe847",
   "metadata": {},
   "source": [
    "- split()에 x,y 모두 넘겨야함\n",
    "- 3번의 분할 모두 [0,1,2] 포함되어 분할"
   ]
  },
  {
   "cell_type": "markdown",
   "id": "3df3e95d",
   "metadata": {},
   "source": [
    "**3. cross_validate()**\n",
    "- 데이터 분할과 교차검증 함께 가능"
   ]
  },
  {
   "cell_type": "markdown",
   "id": "8e3c8228",
   "metadata": {},
   "source": [
    "## 3.2.2 스케일 조절\n",
    "**데이터 값의 범위를 변환시키는 방법**\n",
    "### 1. MinMaxScaler"
   ]
  },
  {
   "cell_type": "code",
   "execution_count": 122,
   "id": "688c977a",
   "metadata": {
    "scrolled": true
   },
   "outputs": [
    {
     "data": {
      "text/html": [
       "<div>\n",
       "<style scoped>\n",
       "    .dataframe tbody tr th:only-of-type {\n",
       "        vertical-align: middle;\n",
       "    }\n",
       "\n",
       "    .dataframe tbody tr th {\n",
       "        vertical-align: top;\n",
       "    }\n",
       "\n",
       "    .dataframe thead th {\n",
       "        text-align: right;\n",
       "    }\n",
       "</style>\n",
       "<table border=\"1\" class=\"dataframe\">\n",
       "  <thead>\n",
       "    <tr style=\"text-align: right;\">\n",
       "      <th></th>\n",
       "      <th>sepal length (cm)</th>\n",
       "      <th>sepal width (cm)</th>\n",
       "      <th>petal length (cm)</th>\n",
       "      <th>petal width (cm)</th>\n",
       "      <th>species</th>\n",
       "    </tr>\n",
       "  </thead>\n",
       "  <tbody>\n",
       "    <tr>\n",
       "      <th>count</th>\n",
       "      <td>150.000000</td>\n",
       "      <td>150.000000</td>\n",
       "      <td>150.000000</td>\n",
       "      <td>150.000000</td>\n",
       "      <td>150.000000</td>\n",
       "    </tr>\n",
       "    <tr>\n",
       "      <th>mean</th>\n",
       "      <td>5.843333</td>\n",
       "      <td>3.057333</td>\n",
       "      <td>3.758000</td>\n",
       "      <td>1.199333</td>\n",
       "      <td>1.000000</td>\n",
       "    </tr>\n",
       "    <tr>\n",
       "      <th>std</th>\n",
       "      <td>0.828066</td>\n",
       "      <td>0.435866</td>\n",
       "      <td>1.765298</td>\n",
       "      <td>0.762238</td>\n",
       "      <td>0.819232</td>\n",
       "    </tr>\n",
       "    <tr>\n",
       "      <th>min</th>\n",
       "      <td>4.300000</td>\n",
       "      <td>2.000000</td>\n",
       "      <td>1.000000</td>\n",
       "      <td>0.100000</td>\n",
       "      <td>0.000000</td>\n",
       "    </tr>\n",
       "    <tr>\n",
       "      <th>25%</th>\n",
       "      <td>5.100000</td>\n",
       "      <td>2.800000</td>\n",
       "      <td>1.600000</td>\n",
       "      <td>0.300000</td>\n",
       "      <td>0.000000</td>\n",
       "    </tr>\n",
       "    <tr>\n",
       "      <th>50%</th>\n",
       "      <td>5.800000</td>\n",
       "      <td>3.000000</td>\n",
       "      <td>4.350000</td>\n",
       "      <td>1.300000</td>\n",
       "      <td>1.000000</td>\n",
       "    </tr>\n",
       "    <tr>\n",
       "      <th>75%</th>\n",
       "      <td>6.400000</td>\n",
       "      <td>3.300000</td>\n",
       "      <td>5.100000</td>\n",
       "      <td>1.800000</td>\n",
       "      <td>2.000000</td>\n",
       "    </tr>\n",
       "    <tr>\n",
       "      <th>max</th>\n",
       "      <td>7.900000</td>\n",
       "      <td>4.400000</td>\n",
       "      <td>6.900000</td>\n",
       "      <td>2.500000</td>\n",
       "      <td>2.000000</td>\n",
       "    </tr>\n",
       "  </tbody>\n",
       "</table>\n",
       "</div>"
      ],
      "text/plain": [
       "       sepal length (cm)  sepal width (cm)  petal length (cm)  \\\n",
       "count         150.000000        150.000000         150.000000   \n",
       "mean            5.843333          3.057333           3.758000   \n",
       "std             0.828066          0.435866           1.765298   \n",
       "min             4.300000          2.000000           1.000000   \n",
       "25%             5.100000          2.800000           1.600000   \n",
       "50%             5.800000          3.000000           4.350000   \n",
       "75%             6.400000          3.300000           5.100000   \n",
       "max             7.900000          4.400000           6.900000   \n",
       "\n",
       "       petal width (cm)     species  \n",
       "count        150.000000  150.000000  \n",
       "mean           1.199333    1.000000  \n",
       "std            0.762238    0.819232  \n",
       "min            0.100000    0.000000  \n",
       "25%            0.300000    0.000000  \n",
       "50%            1.300000    1.000000  \n",
       "75%            1.800000    2.000000  \n",
       "max            2.500000    2.000000  "
      ]
     },
     "execution_count": 122,
     "metadata": {},
     "output_type": "execute_result"
    }
   ],
   "source": [
    "df.describe()"
   ]
  },
  {
   "cell_type": "code",
   "execution_count": 123,
   "id": "233a1120",
   "metadata": {},
   "outputs": [
    {
     "data": {
      "text/html": [
       "<div>\n",
       "<style scoped>\n",
       "    .dataframe tbody tr th:only-of-type {\n",
       "        vertical-align: middle;\n",
       "    }\n",
       "\n",
       "    .dataframe tbody tr th {\n",
       "        vertical-align: top;\n",
       "    }\n",
       "\n",
       "    .dataframe thead th {\n",
       "        text-align: right;\n",
       "    }\n",
       "</style>\n",
       "<table border=\"1\" class=\"dataframe\">\n",
       "  <thead>\n",
       "    <tr style=\"text-align: right;\">\n",
       "      <th></th>\n",
       "      <th>sepal length (cm)</th>\n",
       "      <th>sepal width (cm)</th>\n",
       "      <th>petal length (cm)</th>\n",
       "      <th>petal width (cm)</th>\n",
       "    </tr>\n",
       "  </thead>\n",
       "  <tbody>\n",
       "    <tr>\n",
       "      <th>count</th>\n",
       "      <td>149.000000</td>\n",
       "      <td>149.000000</td>\n",
       "      <td>149.000000</td>\n",
       "      <td>149.000000</td>\n",
       "    </tr>\n",
       "    <tr>\n",
       "      <th>mean</th>\n",
       "      <td>0.428784</td>\n",
       "      <td>0.441555</td>\n",
       "      <td>0.465931</td>\n",
       "      <td>0.456096</td>\n",
       "    </tr>\n",
       "    <tr>\n",
       "      <th>std</th>\n",
       "      <td>0.230792</td>\n",
       "      <td>0.181809</td>\n",
       "      <td>0.299626</td>\n",
       "      <td>0.317759</td>\n",
       "    </tr>\n",
       "    <tr>\n",
       "      <th>min</th>\n",
       "      <td>0.000000</td>\n",
       "      <td>0.000000</td>\n",
       "      <td>0.000000</td>\n",
       "      <td>0.000000</td>\n",
       "    </tr>\n",
       "    <tr>\n",
       "      <th>25%</th>\n",
       "      <td>0.222222</td>\n",
       "      <td>0.333333</td>\n",
       "      <td>0.101695</td>\n",
       "      <td>0.083333</td>\n",
       "    </tr>\n",
       "    <tr>\n",
       "      <th>50%</th>\n",
       "      <td>0.416667</td>\n",
       "      <td>0.416667</td>\n",
       "      <td>0.559322</td>\n",
       "      <td>0.500000</td>\n",
       "    </tr>\n",
       "    <tr>\n",
       "      <th>75%</th>\n",
       "      <td>0.583333</td>\n",
       "      <td>0.541667</td>\n",
       "      <td>0.694915</td>\n",
       "      <td>0.708333</td>\n",
       "    </tr>\n",
       "    <tr>\n",
       "      <th>max</th>\n",
       "      <td>1.000000</td>\n",
       "      <td>1.000000</td>\n",
       "      <td>1.000000</td>\n",
       "      <td>1.000000</td>\n",
       "    </tr>\n",
       "  </tbody>\n",
       "</table>\n",
       "</div>"
      ],
      "text/plain": [
       "       sepal length (cm)  sepal width (cm)  petal length (cm)  \\\n",
       "count         149.000000        149.000000         149.000000   \n",
       "mean            0.428784          0.441555           0.465931   \n",
       "std             0.230792          0.181809           0.299626   \n",
       "min             0.000000          0.000000           0.000000   \n",
       "25%             0.222222          0.333333           0.101695   \n",
       "50%             0.416667          0.416667           0.559322   \n",
       "75%             0.583333          0.541667           0.694915   \n",
       "max             1.000000          1.000000           1.000000   \n",
       "\n",
       "       petal width (cm)  \n",
       "count        149.000000  \n",
       "mean           0.456096  \n",
       "std            0.317759  \n",
       "min            0.000000  \n",
       "25%            0.083333  \n",
       "50%            0.500000  \n",
       "75%            0.708333  \n",
       "max            1.000000  "
      ]
     },
     "execution_count": 123,
     "metadata": {},
     "output_type": "execute_result"
    }
   ],
   "source": [
    "# minmaxscaler\n",
    "from sklearn.preprocessing import MinMaxScaler\n",
    "\n",
    "minmax_scaler = MinMaxScaler()\n",
    "minmax_scaler.fit(X)  # 데이터 최소값, 최대값 기준점 정하는 과정\n",
    "minmax_scaled_data = minmax_scaler.transform(X) # 기준을 사용하여 변환하는 과정\n",
    "minmax_scaled_df = pd.DataFrame(data = minmax_scaled_data, columns = iris.feature_names)\n",
    "minmax_scaled_df.describe()"
   ]
  },
  {
   "cell_type": "markdown",
   "id": "af55ee91",
   "metadata": {},
   "source": [
    "- 최소: 0\n",
    "- 최대: 1"
   ]
  },
  {
   "cell_type": "markdown",
   "id": "872ef4dd",
   "metadata": {},
   "source": [
    "### 2. StandardScaler"
   ]
  },
  {
   "cell_type": "code",
   "execution_count": 126,
   "id": "5fbf8092",
   "metadata": {},
   "outputs": [
    {
     "data": {
      "text/html": [
       "<div>\n",
       "<style scoped>\n",
       "    .dataframe tbody tr th:only-of-type {\n",
       "        vertical-align: middle;\n",
       "    }\n",
       "\n",
       "    .dataframe tbody tr th {\n",
       "        vertical-align: top;\n",
       "    }\n",
       "\n",
       "    .dataframe thead th {\n",
       "        text-align: right;\n",
       "    }\n",
       "</style>\n",
       "<table border=\"1\" class=\"dataframe\">\n",
       "  <thead>\n",
       "    <tr style=\"text-align: right;\">\n",
       "      <th></th>\n",
       "      <th>sepal length (cm)</th>\n",
       "      <th>sepal width (cm)</th>\n",
       "      <th>petal length (cm)</th>\n",
       "      <th>petal width (cm)</th>\n",
       "    </tr>\n",
       "  </thead>\n",
       "  <tbody>\n",
       "    <tr>\n",
       "      <th>count</th>\n",
       "      <td>1.490000e+02</td>\n",
       "      <td>1.490000e+02</td>\n",
       "      <td>1.490000e+02</td>\n",
       "      <td>1.490000e+02</td>\n",
       "    </tr>\n",
       "    <tr>\n",
       "      <th>mean</th>\n",
       "      <td>-2.193622e-15</td>\n",
       "      <td>-1.907497e-15</td>\n",
       "      <td>-1.525998e-15</td>\n",
       "      <td>-9.537486e-16</td>\n",
       "    </tr>\n",
       "    <tr>\n",
       "      <th>std</th>\n",
       "      <td>1.003373e+00</td>\n",
       "      <td>1.003373e+00</td>\n",
       "      <td>1.003373e+00</td>\n",
       "      <td>1.003373e+00</td>\n",
       "    </tr>\n",
       "    <tr>\n",
       "      <th>min</th>\n",
       "      <td>-1.864149e+00</td>\n",
       "      <td>-2.436862e+00</td>\n",
       "      <td>-1.560289e+00</td>\n",
       "      <td>-1.440192e+00</td>\n",
       "    </tr>\n",
       "    <tr>\n",
       "      <th>25%</th>\n",
       "      <td>-8.980334e-01</td>\n",
       "      <td>-5.972549e-01</td>\n",
       "      <td>-1.219738e+00</td>\n",
       "      <td>-1.177055e+00</td>\n",
       "    </tr>\n",
       "    <tr>\n",
       "      <th>50%</th>\n",
       "      <td>-5.268246e-02</td>\n",
       "      <td>-1.373532e-01</td>\n",
       "      <td>3.127435e-01</td>\n",
       "      <td>1.386329e-01</td>\n",
       "    </tr>\n",
       "    <tr>\n",
       "      <th>75%</th>\n",
       "      <td>6.719041e-01</td>\n",
       "      <td>5.524994e-01</td>\n",
       "      <td>7.668121e-01</td>\n",
       "      <td>7.964768e-01</td>\n",
       "    </tr>\n",
       "    <tr>\n",
       "      <th>max</th>\n",
       "      <td>2.483370e+00</td>\n",
       "      <td>3.081959e+00</td>\n",
       "      <td>1.788466e+00</td>\n",
       "      <td>1.717458e+00</td>\n",
       "    </tr>\n",
       "  </tbody>\n",
       "</table>\n",
       "</div>"
      ],
      "text/plain": [
       "       sepal length (cm)  sepal width (cm)  petal length (cm)  \\\n",
       "count       1.490000e+02      1.490000e+02       1.490000e+02   \n",
       "mean       -2.193622e-15     -1.907497e-15      -1.525998e-15   \n",
       "std         1.003373e+00      1.003373e+00       1.003373e+00   \n",
       "min        -1.864149e+00     -2.436862e+00      -1.560289e+00   \n",
       "25%        -8.980334e-01     -5.972549e-01      -1.219738e+00   \n",
       "50%        -5.268246e-02     -1.373532e-01       3.127435e-01   \n",
       "75%         6.719041e-01      5.524994e-01       7.668121e-01   \n",
       "max         2.483370e+00      3.081959e+00       1.788466e+00   \n",
       "\n",
       "       petal width (cm)  \n",
       "count      1.490000e+02  \n",
       "mean      -9.537486e-16  \n",
       "std        1.003373e+00  \n",
       "min       -1.440192e+00  \n",
       "25%       -1.177055e+00  \n",
       "50%        1.386329e-01  \n",
       "75%        7.964768e-01  \n",
       "max        1.717458e+00  "
      ]
     },
     "execution_count": 126,
     "metadata": {},
     "output_type": "execute_result"
    }
   ],
   "source": [
    "from sklearn.preprocessing import StandardScaler\n",
    "\n",
    "standard_scaler = StandardScaler()\n",
    "standard_scaler.fit(X)\n",
    "standard_scaled_data = standard_scaler.transform(X)\n",
    "standard_scaled_df = pd.DataFrame(data = standard_scaled_data, columns= iris.feature_names)\n",
    "standard_scaled_df.describe()"
   ]
  },
  {
   "cell_type": "markdown",
   "id": "d0bd813c",
   "metadata": {},
   "source": [
    "- 평균값 0에 근사\n",
    "- 표준편차 1에 근사"
   ]
  },
  {
   "cell_type": "markdown",
   "id": "f182c4b1",
   "metadata": {},
   "source": [
    "## 3.2.3 차원축소\n",
    "**매우 많은 피처로 구성된 다차원 데이터를 함축적으로 더 잘 설명할 수 있는 또 다른 공간으로 매핑해서 추출하는 방법 (PCA)**"
   ]
  },
  {
   "cell_type": "markdown",
   "id": "0c237f8e",
   "metadata": {},
   "source": [
    "- 차원이 높은 경우\n",
    "    - 상관관계 높을 가능성이 크고 데이터 밀도가 희박\n",
    "    - 독립변수X는 많은데 타겟 데이터(종속변수y)를 설명하는데 불필요한 내용 존재, 중복 데이터 존재할 수 있음\n",
    "    - 차원의 저주: 차원이 증가하면 성능이 떨어지는 현상\n",
    "    - 예시) 이미지: 이미지 차원 축소 방법은 PCA, LDA"
   ]
  },
  {
   "cell_type": "markdown",
   "id": "ac2427e1",
   "metadata": {},
   "source": [
    "***PCA에서 차원 변환 절차**\n",
    "1. 공분산(Covariance)계산\n",
    "2. 고유벡터(Eigen Value) 계산\n",
    "3. 고유값(Eigen Value) 선택 \n",
    "4. 변환행렬(Transform Matrix)생성\n",
    "5. 선형변환"
   ]
  },
  {
   "cell_type": "code",
   "execution_count": 128,
   "id": "d1e1e8a6",
   "metadata": {},
   "outputs": [],
   "source": [
    "# 라이브러리 로딩\n",
    "import pandas as pd\n",
    "import matplotlib.pyplot as plt\n",
    "from sklearn.datasets import load_iris\n",
    "from sklearn.decomposition import PCA"
   ]
  },
  {
   "cell_type": "code",
   "execution_count": 131,
   "id": "560048bb",
   "metadata": {},
   "outputs": [],
   "source": [
    "# 데이터 불러오기\n",
    "iris = load_iris()\n",
    "df = pd.DataFrame(data = iris.data, columns = iris.feature_names)\n",
    "df['species'] = iris.target"
   ]
  },
  {
   "cell_type": "code",
   "execution_count": 136,
   "id": "874cc434",
   "metadata": {},
   "outputs": [
    {
     "name": "stdout",
     "output_type": "stream",
     "text": [
      "[0.92497081 0.05276705 0.0170316  0.00523054]\n"
     ]
    }
   ],
   "source": [
    "# PCA\n",
    "pca = PCA(n_components=4)\n",
    "pca.fit(X)\n",
    "print(pca.explained_variance_ratio_)\n",
    "# explained_variance_ratio_\n",
    "#: 각 컴포넌트의 수가 얼마만큼 원본 데이터의 정보를 설명할 수 없는지 나타내는 값"
   ]
  },
  {
   "cell_type": "markdown",
   "id": "d06cadc3",
   "metadata": {},
   "source": [
    "- 1차원: 약 92%\n",
    "- 2차원: 약 5%\n",
    "- 3차원: 약 1.7%\n",
    "- 4차원: 약 0%  \n",
    ": 2개의 차원만 사용해도 약 95%의 설명력을 가진 새로운 피처 만들 수 있음"
   ]
  },
  {
   "cell_type": "code",
   "execution_count": 138,
   "id": "9d929387",
   "metadata": {},
   "outputs": [
    {
     "data": {
      "text/plain": [
       "[<matplotlib.lines.Line2D at 0x1d37410f950>]"
      ]
     },
     "execution_count": 138,
     "metadata": {},
     "output_type": "execute_result"
    },
    {
     "data": {
      "image/png": "[encoded data removed]",
      "text/plain": [
       "<Figure size 640x480 with 1 Axes>"
      ]
     },
     "metadata": {},
     "output_type": "display_data"
    }
   ],
   "source": [
    "# scree plot\n",
    "plt.plot(pca.explained_variance_ratio_,'o--')"
   ]
  },
  {
   "cell_type": "markdown",
   "id": "de4848ad",
   "metadata": {},
   "source": [
    "- 가로축: 주성분 수 (각 주성분 수 - 1)\n",
    "- 세로축: 고유값(Eigen Value)\n",
    "- 1.0: 기울기가 급격하게 꺾이는 지점 (Elbow point)  \n",
    ": 주성분 수 2\n"
   ]
  },
  {
   "cell_type": "code",
   "execution_count": 139,
   "id": "d6094a6c",
   "metadata": {},
   "outputs": [],
   "source": [
    "# 2개의 주성분수를 가지는 PCA\n",
    "pca = PCA(n_components = 2)\n",
    "pca_transformed = pca.fit_transform(iris.data)"
   ]
  },
  {
   "cell_type": "code",
   "execution_count": 140,
   "id": "11af6bd8",
   "metadata": {},
   "outputs": [
    {
     "data": {
      "text/html": [
       "<div>\n",
       "<style scoped>\n",
       "    .dataframe tbody tr th:only-of-type {\n",
       "        vertical-align: middle;\n",
       "    }\n",
       "\n",
       "    .dataframe tbody tr th {\n",
       "        vertical-align: top;\n",
       "    }\n",
       "\n",
       "    .dataframe thead th {\n",
       "        text-align: right;\n",
       "    }\n",
       "</style>\n",
       "<table border=\"1\" class=\"dataframe\">\n",
       "  <thead>\n",
       "    <tr style=\"text-align: right;\">\n",
       "      <th></th>\n",
       "      <th>sepal length (cm)</th>\n",
       "      <th>sepal width (cm)</th>\n",
       "      <th>petal length (cm)</th>\n",
       "      <th>petal width (cm)</th>\n",
       "      <th>species</th>\n",
       "      <th>pca_1</th>\n",
       "      <th>pca_2</th>\n",
       "    </tr>\n",
       "  </thead>\n",
       "  <tbody>\n",
       "    <tr>\n",
       "      <th>0</th>\n",
       "      <td>5.1</td>\n",
       "      <td>3.5</td>\n",
       "      <td>1.4</td>\n",
       "      <td>0.2</td>\n",
       "      <td>0</td>\n",
       "      <td>-2.684126</td>\n",
       "      <td>0.319397</td>\n",
       "    </tr>\n",
       "    <tr>\n",
       "      <th>1</th>\n",
       "      <td>4.9</td>\n",
       "      <td>3.0</td>\n",
       "      <td>1.4</td>\n",
       "      <td>0.2</td>\n",
       "      <td>0</td>\n",
       "      <td>-2.714142</td>\n",
       "      <td>-0.177001</td>\n",
       "    </tr>\n",
       "    <tr>\n",
       "      <th>2</th>\n",
       "      <td>4.7</td>\n",
       "      <td>3.2</td>\n",
       "      <td>1.3</td>\n",
       "      <td>0.2</td>\n",
       "      <td>0</td>\n",
       "      <td>-2.888991</td>\n",
       "      <td>-0.144949</td>\n",
       "    </tr>\n",
       "    <tr>\n",
       "      <th>3</th>\n",
       "      <td>4.6</td>\n",
       "      <td>3.1</td>\n",
       "      <td>1.5</td>\n",
       "      <td>0.2</td>\n",
       "      <td>0</td>\n",
       "      <td>-2.745343</td>\n",
       "      <td>-0.318299</td>\n",
       "    </tr>\n",
       "    <tr>\n",
       "      <th>4</th>\n",
       "      <td>5.0</td>\n",
       "      <td>3.6</td>\n",
       "      <td>1.4</td>\n",
       "      <td>0.2</td>\n",
       "      <td>0</td>\n",
       "      <td>-2.728717</td>\n",
       "      <td>0.326755</td>\n",
       "    </tr>\n",
       "  </tbody>\n",
       "</table>\n",
       "</div>"
      ],
      "text/plain": [
       "   sepal length (cm)  sepal width (cm)  petal length (cm)  petal width (cm)  \\\n",
       "0                5.1               3.5                1.4               0.2   \n",
       "1                4.9               3.0                1.4               0.2   \n",
       "2                4.7               3.2                1.3               0.2   \n",
       "3                4.6               3.1                1.5               0.2   \n",
       "4                5.0               3.6                1.4               0.2   \n",
       "\n",
       "   species     pca_1     pca_2  \n",
       "0        0 -2.684126  0.319397  \n",
       "1        0 -2.714142 -0.177001  \n",
       "2        0 -2.888991 -0.144949  \n",
       "3        0 -2.745343 -0.318299  \n",
       "4        0 -2.728717  0.326755  "
      ]
     },
     "execution_count": 140,
     "metadata": {},
     "output_type": "execute_result"
    }
   ],
   "source": [
    "df['pca_1'] =  pca_transformed[:,0]\n",
    "df['pca_2'] =  pca_transformed[:,1]\n",
    "df.head()"
   ]
  },
  {
   "cell_type": "code",
   "execution_count": 143,
   "id": "a0f3c140",
   "metadata": {},
   "outputs": [
    {
     "name": "stdout",
     "output_type": "stream",
     "text": [
      "<class 'pandas.core.frame.DataFrame'>\n",
      "RangeIndex: 150 entries, 0 to 149\n",
      "Data columns (total 7 columns):\n",
      " #   Column             Non-Null Count  Dtype  \n",
      "---  ------             --------------  -----  \n",
      " 0   sepal length (cm)  150 non-null    float64\n",
      " 1   sepal width (cm)   150 non-null    float64\n",
      " 2   petal length (cm)  150 non-null    float64\n",
      " 3   petal width (cm)   150 non-null    float64\n",
      " 4   species            150 non-null    int32  \n",
      " 5   pca_1              150 non-null    float64\n",
      " 6   pca_2              150 non-null    float64\n",
      "dtypes: float64(6), int32(1)\n",
      "memory usage: 7.7 KB\n"
     ]
    }
   ],
   "source": [
    "df.info()"
   ]
  },
  {
   "cell_type": "code",
   "execution_count": 144,
   "id": "2eb4d069",
   "metadata": {},
   "outputs": [
    {
     "data": {
      "text/plain": [
       "<Axes: xlabel='pca_1', ylabel='pca_2'>"
      ]
     },
     "execution_count": 144,
     "metadata": {},
     "output_type": "execute_result"
    },
    {
     "data": {
      "image/png": "[encoded data removed]",
      "text/plain": [
       "<Figure size 640x480 with 1 Axes>"
      ]
     },
     "metadata": {},
     "output_type": "display_data"
    }
   ],
   "source": [
    "# 시각화 \n",
    "import seaborn as sns\n",
    "\n",
    "sns.scatterplot(x = df['pca_1'],y= df['pca_2'], hue = df['species'], legend = 'auto')"
   ]
  }
 ],
 "metadata": {
  "kernelspec": {
   "display_name": "Python 3 (ipykernel)",
   "language": "python",
   "name": "python3"
  },
  "language_info": {
   "codemirror_mode": {
    "name": "ipython",
    "version": 3
   },
   "file_extension": ".py",
   "mimetype": "text/x-python",
   "name": "python",
   "nbconvert_exporter": "python",
   "pygments_lexer": "ipython3",
   "version": "3.11.5"
  },
  "toc": {
   "base_numbering": "",
   "nav_menu": {},
   "number_sections": false,
   "sideBar": true,
   "skip_h1_title": false,
   "title_cell": "Table of Contents",
   "title_sidebar": "Contents",
   "toc_cell": false,
   "toc_position": {
    "height": "calc(100% - 180px)",
    "left": "10px",
    "top": "150px",
    "width": "165px"
   },
   "toc_section_display": true,
   "toc_window_display": false
  }
 },
 "nbformat": 4,
 "nbformat_minor": 5
}
