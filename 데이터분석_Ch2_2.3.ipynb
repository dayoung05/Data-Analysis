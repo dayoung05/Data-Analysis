{
 "cells": [
  {
   "cell_type": "markdown",
   "id": "876ddaa8",
   "metadata": {},
   "source": [
    "# Chapter 2 파이썬 기본 문법 익히기"
   ]
  },
  {
   "cell_type": "markdown",
   "id": "cdfe1bdd",
   "metadata": {},
   "source": [
    "## 2.3 자료형(2) - 컨테이너 타입\n",
    "- 리스트(list): 데이터를 연속적으로 관리 \n",
    "    - 순서 O, 값 변경 O, 추가/삭제 O, 중복O [가, 나, 다]\n",
    "    \n",
    "    \n",
    "- 튜플(tuple):데이터를 연속적으로 관리\n",
    "    - 순서 O, 값 변경 X, 추가/삭제 X, 중복O (가, 나, 다)\n",
    "    \n",
    "    \n",
    "- 세트(set): 집합과 같은 속성, \n",
    "    - 순서 X, 값 변경 O, 추가/삭제 O, 중복X, {가, 나, 다}\n",
    "    \n",
    "    \n",
    "- 딕셔너리(dictionary): key - value 쌍 { 가:123, 나:456 } \n",
    "    - 값 변경 O, 추가/삭제 O"
   ]
  },
  {
   "cell_type": "markdown",
   "id": "cafd3247",
   "metadata": {},
   "source": [
    "### 2.3.1 컨테이너 타입이란?"
   ]
  },
  {
   "cell_type": "code",
   "execution_count": 111,
   "id": "f01b2879",
   "metadata": {},
   "outputs": [],
   "source": [
    "score_1 = 80\n",
    "score_2 = 90\n",
    "score_3 = 70\n",
    "score_4 = 65\n",
    "score_5 = 100\n",
    "score_6 = 95\n",
    "score_7 = 90\n",
    "score_8 = 80\n",
    "score_9 = 75\n",
    "score_10 = 80"
   ]
  },
  {
   "cell_type": "code",
   "execution_count": 112,
   "id": "2709e2d4",
   "metadata": {},
   "outputs": [
    {
     "data": {
      "text/plain": [
       "[80, 90, 70, 65, 100, 95, 90, 80, 75, 80]"
      ]
     },
     "execution_count": 112,
     "metadata": {},
     "output_type": "execute_result"
    }
   ],
   "source": [
    "scores = [80, 90, 70, 65, 100, 95, 90, 80, 75, 80]\n",
    "scores #위의 방식보다 훨씬 효율적"
   ]
  },
  {
   "cell_type": "markdown",
   "id": "370ec90e",
   "metadata": {},
   "source": [
    "### 2.3.2 리스트\n",
    "- 순서O, 변경O, 추가삭제O, 중복O"
   ]
  },
  {
   "cell_type": "markdown",
   "id": "9797f201",
   "metadata": {},
   "source": [
    "### 2.3.2.1 리스트 생성"
   ]
  },
  {
   "cell_type": "code",
   "execution_count": 113,
   "id": "08e7806f",
   "metadata": {},
   "outputs": [
    {
     "data": {
      "text/plain": [
       "['apple', 'banana', 'orange', 'banana']"
      ]
     },
     "execution_count": 113,
     "metadata": {},
     "output_type": "execute_result"
    }
   ],
   "source": [
    "#중복허용\n",
    "fruit_list = [\"apple\", \"banana\", \"orange\", \"banana\"] \n",
    "fruit_list"
   ]
  },
  {
   "cell_type": "markdown",
   "id": "dfde8b1c",
   "metadata": {},
   "source": [
    "### 2.3.2.2 아이템 선택\n",
    "1. fruit_list [0번,1번,2번]"
   ]
  },
  {
   "cell_type": "code",
   "execution_count": 114,
   "id": "587c5565",
   "metadata": {},
   "outputs": [
    {
     "data": {
      "text/plain": [
       "'apple'"
      ]
     },
     "execution_count": 114,
     "metadata": {},
     "output_type": "execute_result"
    }
   ],
   "source": [
    "fruit_list[0]"
   ]
  },
  {
   "cell_type": "code",
   "execution_count": 115,
   "id": "b4d3406a",
   "metadata": {},
   "outputs": [
    {
     "data": {
      "text/plain": [
       "'banana'"
      ]
     },
     "execution_count": 115,
     "metadata": {},
     "output_type": "execute_result"
    }
   ],
   "source": [
    "fruit_list[1]"
   ]
  },
  {
   "cell_type": "code",
   "execution_count": 116,
   "id": "5e456d3b",
   "metadata": {},
   "outputs": [
    {
     "data": {
      "text/plain": [
       "'orange'"
      ]
     },
     "execution_count": 116,
     "metadata": {},
     "output_type": "execute_result"
    }
   ],
   "source": [
    "fruit_list[2]"
   ]
  },
  {
   "cell_type": "markdown",
   "id": "85307ec3",
   "metadata": {},
   "source": [
    "- 리스트 길이 확인 방법 len()\n",
    "    - (데이터가 수십 개 이상인 경우 활용)"
   ]
  },
  {
   "cell_type": "code",
   "execution_count": 117,
   "id": "e0232d6a",
   "metadata": {},
   "outputs": [
    {
     "data": {
      "text/plain": [
       "4"
      ]
     },
     "execution_count": 117,
     "metadata": {},
     "output_type": "execute_result"
    }
   ],
   "source": [
    "fruit_list = [\"apple\", \"banana\", \"orange\", \"banana\"] \n",
    "len(fruit_list)"
   ]
  },
  {
   "cell_type": "markdown",
   "id": "020d14f6",
   "metadata": {},
   "source": [
    "2. 마이너스 인덱스\n",
    "- fruit_list [0번,1번,2번]\n",
    "-fruit_list [-3번, -2번, -1번] "
   ]
  },
  {
   "cell_type": "code",
   "execution_count": 118,
   "id": "ad106579",
   "metadata": {},
   "outputs": [
    {
     "data": {
      "text/plain": [
       "'banana'"
      ]
     },
     "execution_count": 118,
     "metadata": {},
     "output_type": "execute_result"
    }
   ],
   "source": [
    "fruit_list[-3]"
   ]
  },
  {
   "cell_type": "markdown",
   "id": "45cd2018",
   "metadata": {},
   "source": [
    "**3. 콜론 사용한 인덱스 범위 지정**"
   ]
  },
  {
   "cell_type": "code",
   "execution_count": 119,
   "id": "04e94d83",
   "metadata": {
    "scrolled": true
   },
   "outputs": [
    {
     "data": {
      "text/plain": [
       "['banana', 'orange']"
      ]
     },
     "execution_count": 119,
     "metadata": {},
     "output_type": "execute_result"
    }
   ],
   "source": [
    "# [1:3] 1포함 3 미포함 -> 1,2번째 인텍스 변환\n",
    "fruit_list = ['apple','banana','orange','lemon']\n",
    "fruit_list[1:3]"
   ]
  },
  {
   "cell_type": "code",
   "execution_count": 120,
   "id": "bea26525",
   "metadata": {},
   "outputs": [
    {
     "data": {
      "text/plain": [
       "['apple', 'banana', 'orange']"
      ]
     },
     "execution_count": 120,
     "metadata": {},
     "output_type": "execute_result"
    }
   ],
   "source": [
    "fruit_list[:3]  #시작 위치 미지정"
   ]
  },
  {
   "cell_type": "code",
   "execution_count": 121,
   "id": "2ab84fa6",
   "metadata": {},
   "outputs": [
    {
     "data": {
      "text/plain": [
       "['banana', 'orange', 'lemon']"
      ]
     },
     "execution_count": 121,
     "metadata": {},
     "output_type": "execute_result"
    }
   ],
   "source": [
    "fruit_list[1:]  #종료 위치 미지정"
   ]
  },
  {
   "cell_type": "code",
   "execution_count": 122,
   "id": "234e3330",
   "metadata": {},
   "outputs": [
    {
     "data": {
      "text/plain": [
       "['apple', 'banana', 'orange', 'lemon']"
      ]
     },
     "execution_count": 122,
     "metadata": {},
     "output_type": "execute_result"
    }
   ],
   "source": [
    "fruit_list[:]  #시작, 종료 모두 미지정 -> 전체 선택"
   ]
  },
  {
   "cell_type": "markdown",
   "id": "4d8bad3c",
   "metadata": {},
   "source": [
    "- 새로운 값 할당 가능"
   ]
  },
  {
   "cell_type": "code",
   "execution_count": 123,
   "id": "0cf7f228",
   "metadata": {},
   "outputs": [
    {
     "data": {
      "text/plain": [
       "['apple', 'kiwi', 'orange', 'lemon']"
      ]
     },
     "execution_count": 123,
     "metadata": {},
     "output_type": "execute_result"
    }
   ],
   "source": [
    "fruit_list[1] = \"kiwi\"  #1번 위치에 새로운 값 할당\n",
    "fruit_list"
   ]
  },
  {
   "cell_type": "code",
   "execution_count": 124,
   "id": "728efd2a",
   "metadata": {},
   "outputs": [
    {
     "data": {
      "text/plain": [
       "['apple', 'strawberry', 'blueberry', 'lemon']"
      ]
     },
     "execution_count": 124,
     "metadata": {},
     "output_type": "execute_result"
    }
   ],
   "source": [
    "fruit_list[1:3] = [\"strawberry\", \"blueberry\"]  #1, 2번 위치에 할당\n",
    "fruit_list"
   ]
  },
  {
   "cell_type": "markdown",
   "id": "a020e0a1",
   "metadata": {},
   "source": [
    "### 2.3.2.3 아이템 추가\n",
    "- 리스트 아이템 추가 방법\n",
    "    - insert(): 지정한 위치에 아이템 추가\n",
    "    - append(): 가장 마지막에 아이템을 추가\n",
    "    - extend(): 다른 리스트에 있는 아이템 합치기\n",
    "    - +: 여러 리스트에 있는 아이템을 합친 새로운 리스트 생성"
   ]
  },
  {
   "cell_type": "code",
   "execution_count": 125,
   "id": "17285622",
   "metadata": {},
   "outputs": [
    {
     "data": {
      "text/plain": [
       "['apple', 'strawberry', 'blueberry']"
      ]
     },
     "execution_count": 125,
     "metadata": {},
     "output_type": "execute_result"
    }
   ],
   "source": [
    "fruit_list2 = ['apple','strawberry','blueberry']\n",
    "fruit_list2"
   ]
  },
  {
   "cell_type": "markdown",
   "id": "593ae841",
   "metadata": {},
   "source": [
    "**Q1. fruit_list2에 2번째 자리에 mango 삽입**\n",
    "- 리스트이름.insert(아이템 추가 위치, 추가할 아이템)"
   ]
  },
  {
   "cell_type": "code",
   "execution_count": 126,
   "id": "f014e9b7",
   "metadata": {},
   "outputs": [
    {
     "data": {
      "text/plain": [
       "['apple', 'strawberry', 'mango', 'blueberry']"
      ]
     },
     "execution_count": 126,
     "metadata": {},
     "output_type": "execute_result"
    }
   ],
   "source": [
    "fruit_list2.insert(2,'mango')\n",
    "fruit_list2"
   ]
  },
  {
   "cell_type": "markdown",
   "id": "bbe9ce48",
   "metadata": {},
   "source": [
    "**Q2. fruit_list2 마지막 위치에 \"watermelon\" 추가**\n",
    "- 리스트이름.append(추가할 아이템)"
   ]
  },
  {
   "cell_type": "code",
   "execution_count": 127,
   "id": "e0a5b8f0",
   "metadata": {},
   "outputs": [
    {
     "data": {
      "text/plain": [
       "['apple', 'strawberry', 'mango', 'blueberry', 'watermelon']"
      ]
     },
     "execution_count": 127,
     "metadata": {},
     "output_type": "execute_result"
    }
   ],
   "source": [
    "fruit_list2.append('watermelon')\n",
    "fruit_list2"
   ]
  },
  {
   "cell_type": "markdown",
   "id": "e81c91b8",
   "metadata": {},
   "source": [
    "**Q3. fruit_list2에 vegetable_list 아이템 추가**\n",
    "- 리스트이름.extend(추가할 아이템이 들어있는 리스트이름)"
   ]
  },
  {
   "cell_type": "code",
   "execution_count": 128,
   "id": "5b333fa1",
   "metadata": {},
   "outputs": [
    {
     "data": {
      "text/plain": [
       "['carrot', 'tomato', 'onion']"
      ]
     },
     "execution_count": 128,
     "metadata": {},
     "output_type": "execute_result"
    }
   ],
   "source": [
    "vegetable_list = ['carrot','tomato','onion']\n",
    "vegetable_list"
   ]
  },
  {
   "cell_type": "code",
   "execution_count": 129,
   "id": "737de2d8",
   "metadata": {},
   "outputs": [
    {
     "data": {
      "text/plain": [
       "['apple',\n",
       " 'strawberry',\n",
       " 'mango',\n",
       " 'blueberry',\n",
       " 'watermelon',\n",
       " 'carrot',\n",
       " 'tomato',\n",
       " 'onion']"
      ]
     },
     "execution_count": 129,
     "metadata": {},
     "output_type": "execute_result"
    }
   ],
   "source": [
    "fruit_list2.extend(vegetable_list)\n",
    "fruit_list2"
   ]
  },
  {
   "cell_type": "markdown",
   "id": "fb1cba5b",
   "metadata": {},
   "source": [
    "**Q4. list1과 list2를 포함하는 list3 만들기**"
   ]
  },
  {
   "cell_type": "code",
   "execution_count": 130,
   "id": "5ff668c4",
   "metadata": {},
   "outputs": [
    {
     "data": {
      "text/plain": [
       "[1, 2, 3, '가', '나', '다']"
      ]
     },
     "execution_count": 130,
     "metadata": {},
     "output_type": "execute_result"
    }
   ],
   "source": [
    "list1 = [1,2,3]\n",
    "list2 = ['가','나','다']\n",
    "list3 = list1+list2\n",
    "list3"
   ]
  },
  {
   "cell_type": "markdown",
   "id": "94355ea5",
   "metadata": {},
   "source": [
    "### 2.3.2.4 아이템 삭제\n",
    "- remove(): 특정 값을 지정하여 삭제\n",
    "- del: 특정 위치를 지정, 리스트 자체 삭제\n",
    "- clear(): 리스트에 있는 모든 아이템 삭제"
   ]
  },
  {
   "cell_type": "markdown",
   "id": "534a8620",
   "metadata": {},
   "source": [
    "**Q1. fruit_list2의 'mango' 삭제**\n",
    "- 리스트이름.remove(삭제할 값)"
   ]
  },
  {
   "cell_type": "code",
   "execution_count": 131,
   "id": "9ace38b9",
   "metadata": {},
   "outputs": [
    {
     "data": {
      "text/plain": [
       "['apple',\n",
       " 'strawberry',\n",
       " 'mango',\n",
       " 'blueberry',\n",
       " 'watermelon',\n",
       " 'carrot',\n",
       " 'tomato',\n",
       " 'onion']"
      ]
     },
     "execution_count": 131,
     "metadata": {},
     "output_type": "execute_result"
    }
   ],
   "source": [
    "fruit_list2"
   ]
  },
  {
   "cell_type": "code",
   "execution_count": 132,
   "id": "998c3da0",
   "metadata": {},
   "outputs": [
    {
     "data": {
      "text/plain": [
       "['apple', 'strawberry', 'blueberry', 'watermelon', 'carrot', 'tomato', 'onion']"
      ]
     },
     "execution_count": 132,
     "metadata": {},
     "output_type": "execute_result"
    }
   ],
   "source": [
    "fruit_list2.remove('mango')\n",
    "fruit_list2"
   ]
  },
  {
   "cell_type": "markdown",
   "id": "6e01227c",
   "metadata": {},
   "source": [
    "**Q2. fruit_list2 마지막 아이템 삭제**\n",
    "- del 삭제할 아이템"
   ]
  },
  {
   "cell_type": "code",
   "execution_count": 133,
   "id": "410b5a2d",
   "metadata": {},
   "outputs": [
    {
     "data": {
      "text/plain": [
       "['apple', 'strawberry', 'blueberry', 'watermelon', 'carrot', 'tomato']"
      ]
     },
     "execution_count": 133,
     "metadata": {},
     "output_type": "execute_result"
    }
   ],
   "source": [
    "del fruit_list2[-1]\n",
    "fruit_list2"
   ]
  },
  {
   "cell_type": "markdown",
   "id": "5e0064aa",
   "metadata": {},
   "source": [
    "**Q3. fruit_list2 리스트 삭제**"
   ]
  },
  {
   "cell_type": "code",
   "execution_count": 135,
   "id": "3832978e",
   "metadata": {},
   "outputs": [
    {
     "ename": "NameError",
     "evalue": "name 'fruit_list2' is not defined",
     "output_type": "error",
     "traceback": [
      "\u001b[1;31m---------------------------------------------------------------------------\u001b[0m",
      "\u001b[1;31mNameError\u001b[0m                                 Traceback (most recent call last)",
      "\u001b[1;32m<ipython-input-135-ac2d3b8f2d0f>\u001b[0m in \u001b[0;36m<module>\u001b[1;34m\u001b[0m\n\u001b[1;32m----> 1\u001b[1;33m \u001b[1;32mdel\u001b[0m \u001b[0mfruit_list2\u001b[0m\u001b[1;33m\u001b[0m\u001b[1;33m\u001b[0m\u001b[0m\n\u001b[0m\u001b[0;32m      2\u001b[0m \u001b[0mfruit_list2\u001b[0m\u001b[1;33m\u001b[0m\u001b[1;33m\u001b[0m\u001b[0m\n",
      "\u001b[1;31mNameError\u001b[0m: name 'fruit_list2' is not defined"
     ]
    }
   ],
   "source": [
    "del fruit_list2\n",
    "fruit_list2"
   ]
  },
  {
   "cell_type": "markdown",
   "id": "9926548b",
   "metadata": {},
   "source": [
    "**Q4. fruit_list 리스트 안에 있는 아이템 모두 삭제**\n",
    "- 리스트이름.clear()"
   ]
  },
  {
   "cell_type": "code",
   "execution_count": 136,
   "id": "14cc6fca",
   "metadata": {},
   "outputs": [
    {
     "data": {
      "text/plain": [
       "['apple', 'strawberry', 'blueberry', 'lemon']"
      ]
     },
     "execution_count": 136,
     "metadata": {},
     "output_type": "execute_result"
    }
   ],
   "source": [
    "fruit_list"
   ]
  },
  {
   "cell_type": "code",
   "execution_count": 137,
   "id": "25d2521b",
   "metadata": {},
   "outputs": [
    {
     "data": {
      "text/plain": [
       "[]"
      ]
     },
     "execution_count": 137,
     "metadata": {},
     "output_type": "execute_result"
    }
   ],
   "source": [
    "fruit_list.clear()\n",
    "fruit_list"
   ]
  },
  {
   "cell_type": "markdown",
   "id": "cfb08f6c",
   "metadata": {},
   "source": [
    "### 2.3.2.5 아이템 정렬\n",
    "- 리스트 함수 sort(): 문자 - 알파벳 순서대로 정렬, 숫자 - 크기 순서대로 정렬\n",
    "- <u>리스트이름.sort(옵션)</u>"
   ]
  },
  {
   "cell_type": "code",
   "execution_count": 139,
   "id": "21fdb841",
   "metadata": {},
   "outputs": [
    {
     "data": {
      "text/plain": [
       "['strawberry', 'mango', 'blueberry', 'watermelon', 'apple', 'banana', 'orange']"
      ]
     },
     "execution_count": 139,
     "metadata": {},
     "output_type": "execute_result"
    }
   ],
   "source": [
    "fruit_list = ['strawberry','mango','blueberry','watermelon','apple','banana','orange']\n",
    "fruit_list"
   ]
  },
  {
   "cell_type": "code",
   "execution_count": 140,
   "id": "879ec9b4",
   "metadata": {},
   "outputs": [],
   "source": [
    "fruit_list.sort(reverse = True)\n",
    "# reverse = True: 아이템 알파벳 역순인 내림차순 정렬"
   ]
  },
  {
   "cell_type": "code",
   "execution_count": 141,
   "id": "e98aa050",
   "metadata": {},
   "outputs": [
    {
     "data": {
      "text/plain": [
       "['watermelon', 'strawberry', 'orange', 'mango', 'blueberry', 'banana', 'apple']"
      ]
     },
     "execution_count": 141,
     "metadata": {},
     "output_type": "execute_result"
    }
   ],
   "source": [
    "fruit_list"
   ]
  },
  {
   "cell_type": "markdown",
   "id": "c34b96cf",
   "metadata": {},
   "source": [
    "### 2.3.3 튜플\n",
    "- 순서 O, 값 변경 X, 추가/삭제 X, 중복 O"
   ]
  },
  {
   "cell_type": "code",
   "execution_count": 147,
   "id": "eb3aab84",
   "metadata": {},
   "outputs": [
    {
     "data": {
      "text/plain": [
       "('apple', 'banana', 'orange', 'apple', 'banana')"
      ]
     },
     "execution_count": 147,
     "metadata": {},
     "output_type": "execute_result"
    }
   ],
   "source": [
    "# 리스트와 종일하게 중복 가능\n",
    "fruit_tuple = ('apple','banana','orange','apple','banana')\n",
    "fruit_tuple"
   ]
  },
  {
   "cell_type": "markdown",
   "id": "1266c00d",
   "metadata": {},
   "source": [
    "### 2.3.3.2 아이템 선택"
   ]
  },
  {
   "cell_type": "code",
   "execution_count": 148,
   "id": "239a8d57",
   "metadata": {},
   "outputs": [
    {
     "data": {
      "text/plain": [
       "'banana'"
      ]
     },
     "execution_count": 148,
     "metadata": {},
     "output_type": "execute_result"
    }
   ],
   "source": [
    "fruit_tuple[1]"
   ]
  },
  {
   "cell_type": "code",
   "execution_count": 149,
   "id": "79239eb9",
   "metadata": {},
   "outputs": [
    {
     "ename": "TypeError",
     "evalue": "'tuple' object does not support item assignment",
     "output_type": "error",
     "traceback": [
      "\u001b[1;31m---------------------------------------------------------------------------\u001b[0m",
      "\u001b[1;31mTypeError\u001b[0m                                 Traceback (most recent call last)",
      "\u001b[1;32m<ipython-input-149-da8aeb9083b2>\u001b[0m in \u001b[0;36m<module>\u001b[1;34m\u001b[0m\n\u001b[0;32m      1\u001b[0m \u001b[1;31m# 아이템 변경 불가\u001b[0m\u001b[1;33m\u001b[0m\u001b[1;33m\u001b[0m\u001b[1;33m\u001b[0m\u001b[0m\n\u001b[1;32m----> 2\u001b[1;33m \u001b[0mfruit_tuple\u001b[0m\u001b[1;33m[\u001b[0m\u001b[1;36m1\u001b[0m\u001b[1;33m]\u001b[0m \u001b[1;33m=\u001b[0m \u001b[1;34m'kiwi'\u001b[0m\u001b[1;33m\u001b[0m\u001b[1;33m\u001b[0m\u001b[0m\n\u001b[0m",
      "\u001b[1;31mTypeError\u001b[0m: 'tuple' object does not support item assignment"
     ]
    }
   ],
   "source": [
    "# 아이템 변경 불가\n",
    "fruit_tuple[1] = 'kiwi'"
   ]
  },
  {
   "cell_type": "markdown",
   "id": "9a3f8b5b",
   "metadata": {},
   "source": [
    "### 2.3.3.3 아이템 추가/삭제 \n",
    "- 튜플 추가 삭제 불가능하여 리스트에서 제공하는 append(),remove() 제공 X\n",
    "- 편집을 위해서 튜플 -> 리스트 타입으로 변환 -> 추가/제거 -> 튜플로 변환"
   ]
  },
  {
   "cell_type": "code",
   "execution_count": 154,
   "id": "029bc80d",
   "metadata": {},
   "outputs": [
    {
     "data": {
      "text/plain": [
       "('banana', 'orange', 'banana', 'watermelon', 'watermelon')"
      ]
     },
     "execution_count": 154,
     "metadata": {},
     "output_type": "execute_result"
    }
   ],
   "source": [
    "# 리스트로 변환\n",
    "fruit_list = list(fruit_tuple)\n",
    "fruit_list.append('watermelon')\n",
    "fruit_list.remove('apple')\n",
    "\n",
    "# 튜플로 변환\n",
    "fruit_tuple = tuple(fruit_list)\n",
    "fruit_tuple"
   ]
  },
  {
   "cell_type": "markdown",
   "id": "074af34b",
   "metadata": {},
   "source": [
    "### 2.3.4 세트\n",
    "- 순서 X, 값 변경 O, 추가/삭제 O, 중복X, {가, 나, 다}\n",
    "- 집합 성질"
   ]
  },
  {
   "cell_type": "markdown",
   "id": "cccdf1fa",
   "metadata": {},
   "source": [
    "**Set 집합 연산**\n",
    "- difference(): 차집합(두 세트 간의 차이 반환)\n",
    "- intersection(): 교집합(두 세트 모두 포함한 아이템 반환)\n",
    "- isdisjoint(): 두 세트에 교집합이 있는지 여부 반환\n",
    "- issubset(), issuperset(): 이 세트가 다른 세트에 포함되는지 여부 반환\n",
    "- symmetric_difference(): 두 세트의 합집합에서 교집합 부분을 제외한 부분을 반환(두 세트의 대칭 차이가 있는 세트를 반환)\n",
    "- union(): 합집합"
   ]
  },
  {
   "cell_type": "markdown",
   "id": "c3a8f03c",
   "metadata": {},
   "source": [
    "### 2.3.4.1 세트 생성\n",
    "- 리스트, 튜플과 달리 중복X, 순서 X"
   ]
  },
  {
   "cell_type": "code",
   "execution_count": 1,
   "id": "6b60edd6",
   "metadata": {},
   "outputs": [
    {
     "data": {
      "text/plain": [
       "{'apple', 'banana', 'orange'}"
      ]
     },
     "execution_count": 1,
     "metadata": {},
     "output_type": "execute_result"
    }
   ],
   "source": [
    "fruit_set = {'apple','banana','orange'}\n",
    "fruit_set"
   ]
  },
  {
   "cell_type": "code",
   "execution_count": 2,
   "id": "39f91ee7",
   "metadata": {},
   "outputs": [
    {
     "data": {
      "text/plain": [
       "{'apple', 'banana', 'orange'}"
      ]
     },
     "execution_count": 2,
     "metadata": {},
     "output_type": "execute_result"
    }
   ],
   "source": [
    "# 중복 허용 X\n",
    "fruit_set ={'apple','banana','orange','apple','banana'}\n",
    "fruit_set"
   ]
  },
  {
   "cell_type": "markdown",
   "id": "27b3d0ac",
   "metadata": {},
   "source": [
    "### 2.3.4.2 아이템 선택\n",
    "- 세트: 인덱스 존재 X\n",
    "    - add(): 신규 아이템 추가\n",
    "    - update(): 다른 세트에 있는 아이템 추가"
   ]
  },
  {
   "cell_type": "markdown",
   "id": "862d0cbe",
   "metadata": {},
   "source": [
    "**Q1 fruit_set 'kiwi' 추가**\n",
    "- 세트이름.add(추가할 아이템)"
   ]
  },
  {
   "cell_type": "code",
   "execution_count": 3,
   "id": "73b68025",
   "metadata": {},
   "outputs": [
    {
     "data": {
      "text/plain": [
       "{'apple', 'banana', 'kiwi', 'orange'}"
      ]
     },
     "execution_count": 3,
     "metadata": {},
     "output_type": "execute_result"
    }
   ],
   "source": [
    "fruit_set.add('kiwi')\n",
    "fruit_set"
   ]
  },
  {
   "cell_type": "markdown",
   "id": "3c1c875a",
   "metadata": {},
   "source": [
    "**Q2. fruit_set에 vegetalbe_set 추가**\n",
    "- 세트이름.update(추가할 아이템이 들어있는 세트 이름)"
   ]
  },
  {
   "cell_type": "code",
   "execution_count": 4,
   "id": "f2c85557",
   "metadata": {},
   "outputs": [
    {
     "data": {
      "text/plain": [
       "{'apple', 'banana', 'carrot', 'kiwi', 'onion', 'orange', 'tomato'}"
      ]
     },
     "execution_count": 4,
     "metadata": {},
     "output_type": "execute_result"
    }
   ],
   "source": [
    "vegetable_set = {'carrot','tomato','onion'}\n",
    "fruit_set.update(vegetable_set)\n",
    "fruit_set"
   ]
  },
  {
   "cell_type": "markdown",
   "id": "f80891b9",
   "metadata": {},
   "source": [
    "### 2.3.4.4 아이템 삭제\n",
    "- 리스트와 동일 방법\n",
    "    - remove(): 지정한 값을 가지는 아이템 삭제\n",
    "    - del: 지정한 아이템(특정위치에 있는 아이템, 세트 자체)을 삭제\n",
    "    - clear(): 세트에 있는 모든 아이템 삭제"
   ]
  },
  {
   "cell_type": "code",
   "execution_count": 5,
   "id": "35478301",
   "metadata": {},
   "outputs": [
    {
     "data": {
      "text/plain": [
       "{'apple', 'banana', 'carrot', 'kiwi', 'orange', 'tomato'}"
      ]
     },
     "execution_count": 5,
     "metadata": {},
     "output_type": "execute_result"
    }
   ],
   "source": [
    "fruit_set.remove('onion')\n",
    "fruit_set"
   ]
  },
  {
   "cell_type": "markdown",
   "id": "f1622ff3",
   "metadata": {},
   "source": [
    "### 2.3.5 딕셔너리\n",
    "- 값 변경 O, 추가/삭제 O"
   ]
  },
  {
   "cell_type": "code",
   "execution_count": 7,
   "id": "9a7a8eb3",
   "metadata": {},
   "outputs": [
    {
     "data": {
      "text/plain": [
       "{'name': 'dayoung', 'age': 27, 'height': 190, 'weight': 99.0}"
      ]
     },
     "execution_count": 7,
     "metadata": {},
     "output_type": "execute_result"
    }
   ],
   "source": [
    "my_dict ={\n",
    "    'name':'dayoung',\n",
    "    'age':27,\n",
    "    'height': 190,\n",
    "    'weight': 99.0\n",
    "}\n",
    "my_dict"
   ]
  },
  {
   "cell_type": "markdown",
   "id": "d0801047",
   "metadata": {},
   "source": [
    "### 2.3.5.2 아이템 선택/추가\n",
    "- key 값으로 value 값 선택 가능"
   ]
  },
  {
   "cell_type": "code",
   "execution_count": 10,
   "id": "958328db",
   "metadata": {},
   "outputs": [
    {
     "data": {
      "text/plain": [
       "dict_keys(['name', 'age', 'height', 'weight'])"
      ]
     },
     "execution_count": 10,
     "metadata": {},
     "output_type": "execute_result"
    }
   ],
   "source": [
    "my_dict.keys()"
   ]
  },
  {
   "cell_type": "code",
   "execution_count": 12,
   "id": "4d51b783",
   "metadata": {},
   "outputs": [
    {
     "data": {
      "text/plain": [
       "27"
      ]
     },
     "execution_count": 12,
     "metadata": {},
     "output_type": "execute_result"
    }
   ],
   "source": [
    "my_dict['age']"
   ]
  },
  {
   "cell_type": "code",
   "execution_count": 13,
   "id": "beab9dd8",
   "metadata": {},
   "outputs": [
    {
     "data": {
      "text/plain": [
       "{'name': 'dayoung', 'age': 29, 'height': 190, 'weight': 99.0}"
      ]
     },
     "execution_count": 13,
     "metadata": {},
     "output_type": "execute_result"
    }
   ],
   "source": [
    "my_dict['age']=29\n",
    "my_dict"
   ]
  },
  {
   "cell_type": "code",
   "execution_count": 15,
   "id": "e7b852d2",
   "metadata": {},
   "outputs": [
    {
     "data": {
      "text/plain": [
       "{'name': 'dayoung', 'age': 29, 'height': 190, 'weight': 170}"
      ]
     },
     "execution_count": 15,
     "metadata": {},
     "output_type": "execute_result"
    }
   ],
   "source": [
    "# update\n",
    "my_dict.update({'weight':170})\n",
    "my_dict"
   ]
  },
  {
   "cell_type": "code",
   "execution_count": 16,
   "id": "0b32d8c5",
   "metadata": {},
   "outputs": [
    {
     "data": {
      "text/plain": [
       "{'name': 'dayoung',\n",
       " 'age': 29,\n",
       " 'height': 190,\n",
       " 'weight': 170,\n",
       " 'address': 'Busan'}"
      ]
     },
     "execution_count": 16,
     "metadata": {},
     "output_type": "execute_result"
    }
   ],
   "source": [
    "my_dict.update({'address':'Busan'})\n",
    "my_dict"
   ]
  },
  {
   "cell_type": "markdown",
   "id": "8c64d25c",
   "metadata": {},
   "source": [
    "### 2.3.5.3 아이템 삭제"
   ]
  },
  {
   "cell_type": "code",
   "execution_count": 17,
   "id": "96034408",
   "metadata": {},
   "outputs": [
    {
     "data": {
      "text/plain": [
       "{'name': 'dayoung', 'age': 29, 'height': 190, 'weight': 170}"
      ]
     },
     "execution_count": 17,
     "metadata": {},
     "output_type": "execute_result"
    }
   ],
   "source": [
    "# popitem: 마지막 아이템 삭제\n",
    "my_dict.popitem()\n",
    "my_dict"
   ]
  },
  {
   "cell_type": "code",
   "execution_count": 18,
   "id": "e5065c5f",
   "metadata": {},
   "outputs": [
    {
     "data": {
      "text/plain": [
       "{'name': 'dayoung', 'height': 190, 'weight': 170}"
      ]
     },
     "execution_count": 18,
     "metadata": {},
     "output_type": "execute_result"
    }
   ],
   "source": [
    "#pop: 특정 키 값을 지정하여 아이템 삭제\n",
    "my_dict.pop('age')\n",
    "my_dict"
   ]
  },
  {
   "cell_type": "code",
   "execution_count": 19,
   "id": "74506db7",
   "metadata": {},
   "outputs": [
    {
     "data": {
      "text/plain": [
       "{}"
      ]
     },
     "execution_count": 19,
     "metadata": {},
     "output_type": "execute_result"
    }
   ],
   "source": [
    "#clear: 딕셔너리 안에 있는 아이템 모두 삭제\n",
    "my_dict.clear()\n",
    "my_dict"
   ]
  }
 ],
 "metadata": {
  "kernelspec": {
   "display_name": "Python 3",
   "language": "python",
   "name": "python3"
  },
  "language_info": {
   "codemirror_mode": {
    "name": "ipython",
    "version": 3
   },
   "file_extension": ".py",
   "mimetype": "text/x-python",
   "name": "python",
   "nbconvert_exporter": "python",
   "pygments_lexer": "ipython3",
   "version": "3.8.8"
  }
 },
 "nbformat": 4,
 "nbformat_minor": 5
}
