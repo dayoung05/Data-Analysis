{
 "cells": [
  {
   "cell_type": "markdown",
   "id": "2022c09f-5383-4edf-8c9d-6b59342e5c1d",
   "metadata": {},
   "source": [
    "# Chapter 2 파이썬 기본 문법 익히기"
   ]
  },
  {
   "cell_type": "markdown",
   "id": "f1efa4f4-2dbc-446d-b5e1-de1b0aa97f47",
   "metadata": {},
   "source": [
    "## 2.5 반복문\n",
    "### 2.5.1 for\n",
    "- 변수를 하나씩 수행문으로 넘겨서 문장 수행\n",
    "- for [변수] in [반복자]:\n",
    "        (들여쓰기) 수행문"
   ]
  },
  {
   "cell_type": "markdown",
   "id": "1a942518-2492-46ed-98bd-9ffda7f872fd",
   "metadata": {},
   "source": [
    "**Q1. 전체 시험 성적 5점씩 추가**\n",
    "- 변수: s\n",
    "- 반복자: scores\n",
    "- 수행문: s+5"
   ]
  },
  {
   "cell_type": "code",
   "execution_count": 1,
   "id": "18cf917c-b5aa-4c3e-9447-df4c79ca54ee",
   "metadata": {},
   "outputs": [
    {
     "name": "stdout",
     "output_type": "stream",
     "text": [
      "[85, 95, 75, 70, 90, 100, 95, 80, 85]\n"
     ]
    }
   ],
   "source": [
    "scores = [80, 90, 70, 65, 85, 95, 90, 75, 80]\n",
    "new_scores = []\n",
    "\n",
    "for s in scores:\n",
    "    new = s + 5\n",
    "    new_scores.append(new)\n",
    "print(new_scores)"
   ]
  },
  {
   "cell_type": "markdown",
   "id": "c15d4d23",
   "metadata": {},
   "source": [
    "**Q2.**\n",
    "- 1학년 3반 시험 성적 [80, 90, 70, 65, 95, 100, 90, 80, 75, 80]\n",
    "- 한문제 잘못 출제 되어 5점씩 추가 점수  (100점인 학생은 변경 후에도 100점)"
   ]
  },
  {
   "cell_type": "markdown",
   "id": "8f5dd9b8",
   "metadata": {},
   "source": [
    "- 첫 번째 방법"
   ]
  },
  {
   "cell_type": "code",
   "execution_count": 8,
   "id": "b85463af",
   "metadata": {},
   "outputs": [
    {
     "name": "stdout",
     "output_type": "stream",
     "text": [
      "[85, 95, 75, 70, 100, 100, 95, 85, 80, 85]\n"
     ]
    }
   ],
   "source": [
    "# 현재 점수가 100 보다 낮은지 판단하는 조건문 필요\n",
    "scores = [80, 90, 70, 65, 95, 100, 90, 80, 75, 80]\n",
    "new_scores = []\n",
    "\n",
    "for s in scores:\n",
    "    if s < 100:\n",
    "        new = s + 5\n",
    "    else:\n",
    "        new = s\n",
    "    new_scores.append(new)\n",
    "\n",
    "print(new_scores)"
   ]
  },
  {
   "cell_type": "markdown",
   "id": "93a68ee1",
   "metadata": {},
   "source": [
    "- 두 번째 방법\n",
    "    - **[수행문1 if 조건문 else 수행문 2 for 변수 in 리스트]**\n",
    "    - 수행문1: if 조건문을 만족할 경우 수행문\n",
    "    - 수행문2: else 조건을 만족할 경우 수행문"
   ]
  },
  {
   "cell_type": "code",
   "execution_count": 6,
   "id": "6a48b2a5",
   "metadata": {},
   "outputs": [
    {
     "data": {
      "text/plain": [
       "[85, 95, 75, 70, 100, 100, 95, 85, 80, 85]"
      ]
     },
     "execution_count": 6,
     "metadata": {},
     "output_type": "execute_result"
    }
   ],
   "source": [
    "new_scores2 = [s + 5 if s < 100 else s for s in scores]\n",
    "new_scores2"
   ]
  },
  {
   "cell_type": "markdown",
   "id": "9bf596d3",
   "metadata": {},
   "source": [
    "### 2.5.3 while\n",
    "- while[조건문]:\n",
    "   - (들여쓰기)수행문"
   ]
  },
  {
   "cell_type": "markdown",
   "id": "db409f36",
   "metadata": {},
   "source": [
    "**Q2. (동일한 문제 while 적용)**"
   ]
  },
  {
   "cell_type": "code",
   "execution_count": 10,
   "id": "e3825776",
   "metadata": {},
   "outputs": [
    {
     "name": "stdout",
     "output_type": "stream",
     "text": [
      "[85, 95, 75, 70, 100, 100, 95, 85, 80, 85]\n"
     ]
    }
   ],
   "source": [
    "scores = [80, 90, 70, 65, 95, 100, 90, 80, 75, 80]\n",
    "new_scores = []\n",
    "index = 0                                # index라는 변수 생성, scores 리스트에 아이템을 하나씩 지정하기 위해 사용\n",
    "\n",
    "while(index < len(scores)):             # scores 리스트 전체 길이보다 index가 작은 경우 반복문 수행\n",
    "    if scores[index] < 100:\n",
    "        new = scores[index] + 5\n",
    "    else:\n",
    "        new = scores[index]\n",
    "    new_scores.append(new)\n",
    "    index = index +1\n",
    "    \n",
    "print(new_scores)\n",
    "    \n"
   ]
  },
  {
   "cell_type": "markdown",
   "id": "78e6386f",
   "metadata": {},
   "source": [
    "### 2.5.4 흐름 제어\n",
    "**Q3. 스마트폰 사용량 감시 프로그램**\n",
    "- 사용자는 스마트폰 사용 허용 시간 300분으로 설정\n",
    "- 사용자 한번에 50분씩 사용\n",
    "- 지정 시간 도달시 사용 중단 프로그램"
   ]
  },
  {
   "cell_type": "code",
   "execution_count": 13,
   "id": "56255bdf",
   "metadata": {},
   "outputs": [
    {
     "name": "stdout",
     "output_type": "stream",
     "text": [
      "현재 사용량: 0\n",
      "현재 사용량: 50\n",
      "현재 사용량: 100\n",
      "현재 사용량: 150\n",
      "현재 사용량: 200\n",
      "현재 사용량: 250\n",
      "현재 사용량: 300\n",
      "[사용 중단] 하루 사용 권장량 도달 또는 초과.\n"
     ]
    }
   ],
   "source": [
    "time = 0 # 누적 사용시간\n",
    "while(True):\n",
    "    print('현재 사용량: {}'.format(time))\n",
    "    if(time >= 300):\n",
    "        print('[사용 중단] 하루 사용 권장량 도달 또는 초과.')\n",
    "        break\n",
    "    else:\n",
    "        time = time + 50"
   ]
  },
  {
   "cell_type": "markdown",
   "id": "aa895019",
   "metadata": {},
   "source": [
    "**Q4. 신규 스마트폰 사용량 감시 프로그램**\n",
    "- 현재 사용량 150분 미만: '안전' 메시지 작성"
   ]
  },
  {
   "cell_type": "code",
   "execution_count": 14,
   "id": "38c7481c",
   "metadata": {},
   "outputs": [
    {
     "name": "stdout",
     "output_type": "stream",
     "text": [
      "현재 사용량: 0\n",
      "안전\n",
      "현재 사용량: 50\n",
      "안전\n",
      "현재 사용량: 100\n",
      "안전\n",
      "현재 사용량: 150\n",
      "현재 사용량: 200\n",
      "현재 사용량: 250\n",
      "현재 사용량: 300\n",
      "[사용 중단] 하루 사용 권장량 도달 또는 초과.\n"
     ]
    }
   ],
   "source": [
    "time = 0  # 누적 사용시간\n",
    "\n",
    "while(True):\n",
    "    print('현재 사용량: {}'.format(time))\n",
    "    if time < 150:\n",
    "        print('안전')\n",
    "    if time >= 300:\n",
    "        print('[사용 중단] 하루 사용 권장량 도달 또는 초과.')\n",
    "        break\n",
    "    else:\n",
    "        time = time + 50"
   ]
  },
  {
   "cell_type": "code",
   "execution_count": null,
   "id": "3681f9aa",
   "metadata": {},
   "outputs": [],
   "source": []
  }
 ],
 "metadata": {
  "kernelspec": {
   "display_name": "Python 3",
   "language": "python",
   "name": "python3"
  },
  "language_info": {
   "codemirror_mode": {
    "name": "ipython",
    "version": 3
   },
   "file_extension": ".py",
   "mimetype": "text/x-python",
   "name": "python",
   "nbconvert_exporter": "python",
   "pygments_lexer": "ipython3",
   "version": "3.8.8"
  }
 },
 "nbformat": 4,
 "nbformat_minor": 5
}
