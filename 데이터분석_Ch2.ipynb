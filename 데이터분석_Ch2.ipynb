{
 "cells": [
  {
   "cell_type": "markdown",
   "id": "5015c8e0",
   "metadata": {},
   "source": [
    "# Chapter 2 파이썬 기본 문법 익히기\n",
    "\n"
   ]
  },
  {
   "cell_type": "markdown",
   "id": "7b230bbc",
   "metadata": {},
   "source": [
    "## 2.1 변수\n",
    "\n",
    "* 변수의 개념:  변수는 바구니\n",
    "* 변수 선언: 바구니에 값을 넣음\n",
    "* 변수 이름: 바구니에 이름을 붙임"
   ]
  },
  {
   "cell_type": "markdown",
   "id": "def41e76",
   "metadata": {},
   "source": [
    "### 2.1.1 변수란?\n",
    "* 변수이름=데이터"
   ]
  },
  {
   "cell_type": "code",
   "execution_count": 25,
   "id": "32be20ae",
   "metadata": {},
   "outputs": [
    {
     "data": {
      "text/plain": [
       "5"
      ]
     },
     "execution_count": 25,
     "metadata": {},
     "output_type": "execute_result"
    }
   ],
   "source": [
    "a=5  # a 라는 바구니에 값 5를 넣는다.\n",
    "a    # a 값을 확인"
   ]
  },
  {
   "cell_type": "code",
   "execution_count": 26,
   "id": "fdd79eff",
   "metadata": {},
   "outputs": [
    {
     "data": {
      "text/plain": [
       "3"
      ]
     },
     "execution_count": 26,
     "metadata": {},
     "output_type": "execute_result"
    }
   ],
   "source": [
    "b=3  # b 라는 바구니에 값 3을 넣는다. \n",
    "b    # b 값을 확인"
   ]
  },
  {
   "cell_type": "code",
   "execution_count": 28,
   "id": "d9152844",
   "metadata": {},
   "outputs": [
    {
     "data": {
      "text/plain": [
       "8"
      ]
     },
     "execution_count": 28,
     "metadata": {},
     "output_type": "execute_result"
    }
   ],
   "source": [
    "a+b"
   ]
  },
  {
   "cell_type": "code",
   "execution_count": 30,
   "id": "9979b257",
   "metadata": {},
   "outputs": [
    {
     "data": {
      "text/plain": [
       "'가나다'"
      ]
     },
     "execution_count": 30,
     "metadata": {},
     "output_type": "execute_result"
    }
   ],
   "source": [
    "# 변수에 문자도 넣을 수 있다. \n",
    "C='가나다'\n",
    "C"
   ]
  },
  {
   "cell_type": "code",
   "execution_count": 31,
   "id": "21e4ea0a",
   "metadata": {},
   "outputs": [
    {
     "data": {
      "text/plain": [
       "107.9"
      ]
     },
     "execution_count": 31,
     "metadata": {},
     "output_type": "execute_result"
    }
   ],
   "source": [
    "# 소수점도 가능\n",
    "radio_freq = 107.9\n",
    "radio_freq"
   ]
  },
  {
   "cell_type": "markdown",
   "id": "07eca0a0",
   "metadata": {},
   "source": [
    "### 2.1.2 변수 이름 규칙(1)\n",
    "* 숫자 시작 변수\n",
    "* 공백 포함 변수\n",
    "* 기호 포함 변수(밑줄 제외)\n",
    "* 예약어"
   ]
  },
  {
   "cell_type": "markdown",
   "id": "b0c0e756",
   "metadata": {},
   "source": [
    "### 2.1.3 변수 이름 규칙(2)\n",
    "* 대소문자 구분\n",
    "* 한 번에 여러 변수 선언 가능\n",
    "* 하나의 값을 여러 변수에 담을 수 있다."
   ]
  },
  {
   "cell_type": "code",
   "execution_count": 32,
   "id": "8928d574",
   "metadata": {},
   "outputs": [
    {
     "data": {
      "text/plain": [
       "5"
      ]
     },
     "execution_count": 32,
     "metadata": {},
     "output_type": "execute_result"
    }
   ],
   "source": [
    "# 대소문자 구분\n",
    "abc = 5\n",
    "abc"
   ]
  },
  {
   "cell_type": "code",
   "execution_count": 33,
   "id": "19ec7542",
   "metadata": {},
   "outputs": [
    {
     "data": {
      "text/plain": [
       "'Apple'"
      ]
     },
     "execution_count": 33,
     "metadata": {},
     "output_type": "execute_result"
    }
   ],
   "source": [
    "# 한 번에 여러 변수 선언 가능\n",
    "ABC = \"Apple\"\n",
    "ABC"
   ]
  },
  {
   "cell_type": "code",
   "execution_count": 34,
   "id": "3f9567e3",
   "metadata": {},
   "outputs": [
    {
     "data": {
      "text/plain": [
       "'Apple'"
      ]
     },
     "execution_count": 34,
     "metadata": {},
     "output_type": "execute_result"
    }
   ],
   "source": [
    "x, y, z = \"Apple\",\"Banana\", \"Carrot\"\n",
    "x"
   ]
  },
  {
   "cell_type": "code",
   "execution_count": 35,
   "id": "7d580dea",
   "metadata": {},
   "outputs": [
    {
     "data": {
      "text/plain": [
       "'Banana'"
      ]
     },
     "execution_count": 35,
     "metadata": {},
     "output_type": "execute_result"
    }
   ],
   "source": [
    "y"
   ]
  },
  {
   "cell_type": "code",
   "execution_count": 36,
   "id": "2a28ddc7",
   "metadata": {},
   "outputs": [
    {
     "data": {
      "text/plain": [
       "'Carrot'"
      ]
     },
     "execution_count": 36,
     "metadata": {},
     "output_type": "execute_result"
    }
   ],
   "source": [
    "z"
   ]
  },
  {
   "cell_type": "code",
   "execution_count": 38,
   "id": "e23c8793",
   "metadata": {},
   "outputs": [
    {
     "data": {
      "text/plain": [
       "'Dag'"
      ]
     },
     "execution_count": 38,
     "metadata": {},
     "output_type": "execute_result"
    }
   ],
   "source": [
    "# 하나의 값에 여러 변수 담을 수 있다.\n",
    "x = y = z = \"Dag\"\n",
    "x"
   ]
  },
  {
   "cell_type": "code",
   "execution_count": 39,
   "id": "07610db2",
   "metadata": {},
   "outputs": [
    {
     "data": {
      "text/plain": [
       "'Dag'"
      ]
     },
     "execution_count": 39,
     "metadata": {},
     "output_type": "execute_result"
    }
   ],
   "source": [
    "y"
   ]
  },
  {
   "cell_type": "code",
   "execution_count": 40,
   "id": "9bd94f01",
   "metadata": {},
   "outputs": [
    {
     "data": {
      "text/plain": [
       "'Dag'"
      ]
     },
     "execution_count": 40,
     "metadata": {},
     "output_type": "execute_result"
    }
   ],
   "source": [
    "z"
   ]
  },
  {
   "cell_type": "code",
   "execution_count": null,
   "id": "f55345cd",
   "metadata": {},
   "outputs": [],
   "source": []
  }
 ],
 "metadata": {
  "kernelspec": {
   "display_name": "Python 3",
   "language": "python",
   "name": "python3"
  },
  "language_info": {
   "codemirror_mode": {
    "name": "ipython",
    "version": 3
   },
   "file_extension": ".py",
   "mimetype": "text/x-python",
   "name": "python",
   "nbconvert_exporter": "python",
   "pygments_lexer": "ipython3",
   "version": "3.8.8"
  }
 },
 "nbformat": 4,
 "nbformat_minor": 5
}
