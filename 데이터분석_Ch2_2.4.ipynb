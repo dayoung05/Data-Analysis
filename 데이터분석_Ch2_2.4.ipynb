{
 "cells": [
  {
   "cell_type": "markdown",
   "id": "7214bfeb-eb95-4398-8a02-067ac528afb0",
   "metadata": {},
   "source": [
    "# Chapter 2 파이썬 기본 문법 익히기"
   ]
  },
  {
   "cell_type": "markdown",
   "id": "38e99388-2f78-4e20-966a-e8cc9dbcaf38",
   "metadata": {},
   "source": [
    "## 2.4 조건문"
   ]
  },
  {
   "cell_type": "markdown",
   "id": "b45f8633-12b8-4861-8e8d-e9b9f4cfa7ce",
   "metadata": {},
   "source": [
    "- a==b : a와 b 같은지\n",
    "- a!=b : a와 b 다른지\n",
    "- a<b : a가 b보다 작은지\n",
    "- a<=b: a가 b보다 작거나 같은지\n",
    "- a>b : a가 b보다 큰지\n",
    "- a>=b : a가 b보다 크거나 같은지\n",
    "- a and b : a조건을 만족하면서 b조건을 만족하는 경우 참을 반환\n",
    "- a or b : a조건을 만족하거나 b조건을 만족하는 경우 참을 반환"
   ]
  },
  {
   "cell_type": "markdown",
   "id": "b67536c3-ad82-44f3-9ca3-71c251e74cf3",
   "metadata": {},
   "source": [
    "### 2.4.2 if\n",
    "**Q1. 기온이 0도보다 높으면 '아이스 아메리카노'를 출력하는 프로그램**"
   ]
  },
  {
   "cell_type": "code",
   "execution_count": 2,
   "id": "3bdf387e-45c3-4e5d-8750-5d769063dd1c",
   "metadata": {},
   "outputs": [
    {
     "name": "stdout",
     "output_type": "stream",
     "text": [
      "아이스 아메리카노\n"
     ]
    }
   ],
   "source": [
    "today_temp = 30\n",
    "if today_temp > 0:\n",
    "    print('아이스 아메리카노')"
   ]
  },
  {
   "cell_type": "markdown",
   "id": "a308cb71-0b8e-4f6e-bbca-2060a26f39af",
   "metadata": {},
   "source": [
    "### 2.4.3 else\n",
    "**Q2. 기온이 0도 보다 높으면 '아이스 아메리카노', 그렇지 않은 경우 '따뜻한 아메리카노'출력**"
   ]
  },
  {
   "cell_type": "code",
   "execution_count": 3,
   "id": "ccb2f037-ecfd-4341-aaed-2852b6fe705e",
   "metadata": {},
   "outputs": [
    {
     "name": "stdout",
     "output_type": "stream",
     "text": [
      "아이스 아메리카노\n"
     ]
    }
   ],
   "source": [
    "today_temp = 30\n",
    "\n",
    "if today_temp > 0:\n",
    "    print('아이스 아메리카노')\n",
    "else:\n",
    "    print('따뜻한 아메리카노')"
   ]
  },
  {
   "cell_type": "markdown",
   "id": "d8ddc5a9-ae31-4061-afe1-ce5bbbbe19a0",
   "metadata": {},
   "source": [
    "### 2.4.4 elif\n",
    "**Q3. 기온이 0도 보다 높으면 '아이스 아메리카노', 기온이 0도이면 '미지근한 아메리카노'출력 나머지 경우에 '따뜻한 아메리카노' 출력**"
   ]
  },
  {
   "cell_type": "code",
   "execution_count": 4,
   "id": "f4991588-c53e-4bf9-a086-b02464a860ca",
   "metadata": {},
   "outputs": [
    {
     "name": "stdout",
     "output_type": "stream",
     "text": [
      "아이스 아메리카노\n"
     ]
    }
   ],
   "source": [
    "# 기온이 0도보다 큰가\n",
    "# 기농니 0도 인가\n",
    "today_temp = 30\n",
    "\n",
    "if today_temp > 0:\n",
    "    print('아이스 아메리카노')\n",
    "elif today_temp == 0:\n",
    "    print('미지근한 아메리카노')\n",
    "else:\n",
    "    print('따뜻한 아메리카노')"
   ]
  },
  {
   "cell_type": "markdown",
   "id": "d70911fd-5f56-44df-8d3e-f42e55753199",
   "metadata": {},
   "source": [
    "### 2.4.5 이중 if\n",
    "**Q4**\n",
    "- 맑은 날씨: 기온이 0도 보다 높으면 '아이스 아메리카노', 기온이 0도이면 '미지근한 아메리카노'출력 나머지 경우에 '따뜻한 아메리카노' 출력\n",
    "- 흐린 날씨:  '카푸치노' 출력"
   ]
  },
  {
   "cell_type": "code",
   "execution_count": 6,
   "id": "5e1eaade-594d-4c33-8bd3-5ccac5ff9fdd",
   "metadata": {},
   "outputs": [
    {
     "name": "stdout",
     "output_type": "stream",
     "text": [
      "카푸치노\n"
     ]
    }
   ],
   "source": [
    "weather = '비'\n",
    "today_temp = 30\n",
    "\n",
    "if weather == '맑음':\n",
    "    if 0 <today_temp:\n",
    "        print('아이스 아메리카노')\n",
    "    elif 0 == today_temp:\n",
    "        print('미지근한 아메리카노')\n",
    "    else:\n",
    "        print('따뜻한 아메리카노')\n",
    "else:\n",
    "    print('카푸치노')"
   ]
  },
  {
   "cell_type": "markdown",
   "id": "402b3fd9-196c-4a44-a348-a79dd8831396",
   "metadata": {},
   "source": [
    "**Q5. 용돈 점수 조건식**\n",
    "- 영어 90점 이상, 수학 90점 이상: 용돈인상\n",
    "- 영어 80점 이하, 수학 80점 이하: 용돈 삭감"
   ]
  },
  {
   "cell_type": "code",
   "execution_count": 8,
   "id": "e00a12ef-4a17-4ea6-85fc-60da66a1c9e8",
   "metadata": {},
   "outputs": [
    {
     "name": "stdout",
     "output_type": "stream",
     "text": [
      "동결\n"
     ]
    }
   ],
   "source": [
    "math = 80\n",
    "eng = 100\n",
    "\n",
    "if eng >= 90 and math >= 90:\n",
    "    print('용돈 인상')\n",
    "elif eng <=80 and maht<= 80:\n",
    "    print('용돈 삭감')\n",
    "else:\n",
    "    print('동결')"
   ]
  },
  {
   "cell_type": "markdown",
   "id": "103d7601-9eb3-4bca-818a-17acaebf708d",
   "metadata": {},
   "source": [
    "**Q6.**\n",
    "- 영어 90이상 또는 수학 90이상: 용돈 인상\n",
    "- 영어 80이하 또는 수학 80이하: 용돈 삭감\n",
    "- 기타: 동결"
   ]
  },
  {
   "cell_type": "code",
   "execution_count": 9,
   "id": "0e6838a5-f0a1-43d0-96d6-ab9fb1ef96b2",
   "metadata": {},
   "outputs": [
    {
     "name": "stdout",
     "output_type": "stream",
     "text": [
      "용돈 인상\n"
     ]
    }
   ],
   "source": [
    "math = 80\n",
    "eng = 100\n",
    "\n",
    "if eng>=90 or maht>=90:\n",
    "    print('용돈 인상')\n",
    "elif eng<=80 or math<=80:\n",
    "    print('용돈 삭감')\n",
    "else:\n",
    "    print('기타')"
   ]
  },
  {
   "cell_type": "code",
   "execution_count": null,
   "id": "4a0c46a0-3ac7-4390-9d29-4086b0b8a44b",
   "metadata": {},
   "outputs": [],
   "source": []
  }
 ],
 "metadata": {
  "kernelspec": {
   "display_name": "Python 3",
   "language": "python",
   "name": "python3"
  },
  "language_info": {
   "codemirror_mode": {
    "name": "ipython",
    "version": 3
   },
   "file_extension": ".py",
   "mimetype": "text/x-python",
   "name": "python",
   "nbconvert_exporter": "python",
   "pygments_lexer": "ipython3",
   "version": "3.8.8"
  }
 },
 "nbformat": 4,
 "nbformat_minor": 5
}
